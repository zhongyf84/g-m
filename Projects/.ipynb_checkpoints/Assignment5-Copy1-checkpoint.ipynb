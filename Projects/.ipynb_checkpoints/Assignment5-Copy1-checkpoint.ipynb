{
 "cells": [
  {
   "cell_type": "code",
   "execution_count": null,
   "id": "a8110e24",
   "metadata": {},
   "outputs": [],
   "source": [
    "import numpy as np\n",
    "import igl\n",
    "import meshplot as mp\n",
    "from scipy.spatial.transform import Rotation\n",
    "import ipywidgets as iw\n",
    "import time\n",
    "import scipy.sparse as sp\n",
    "from sksparse.cholmod import cholesky\n",
    "import scipy.linalg"
   ]
  },
  {
   "cell_type": "code",
   "execution_count": null,
   "id": "57f568d3",
   "metadata": {},
   "outputs": [],
   "source": [
    "def fit_block(A):\n",
    "    row, col = A.shape\n",
    "    return np.block([[A, np.zeros((row, 2*col))], [np.zeros((row, col)), A, np.zeros((row, col))], [np.zeros((row, 2*col)), A]])"
   ]
  },
  {
   "cell_type": "code",
   "execution_count": null,
   "id": "d87155c0",
   "metadata": {},
   "outputs": [],
   "source": [
    "def get_laplacian(f):\n",
    "    A = igl.adjacency_matrix(f).A\n",
    "    degrees = np.sum(A, axis=1)\n",
    "    DInv = sp.diags(1/degrees)\n",
    "    L = np.identity(A.shape[0]) - DInv.dot(A)\n",
    "    return L"
   ]
  },
  {
   "cell_type": "code",
   "execution_count": null,
   "id": "5a29b433",
   "metadata": {},
   "outputs": [],
   "source": [
    "def get_delta(L ,v):\n",
    "    delta = L.dot(v)\n",
    "    deltaf = delta[free_indices]\n",
    "    deltaf = np.concatenate((deltaf[:,0], deltaf[:,1], deltaf[:,2])).reshape(deltaf.size, 1)\n",
    "    deltac = delta[handle_indices]\n",
    "    deltac = np.concatenate((deltac[:,0], deltac[:,1], deltac[:,2])).reshape(deltac.size, 1)\n",
    "    return deltaf, deltac"
   ]
  },
  {
   "cell_type": "code",
   "execution_count": null,
   "id": "10249a5e",
   "metadata": {},
   "outputs": [],
   "source": [
    "def get_blocks(L, handle_indices, free_indices):\n",
    "    B = fit_block(L)\n",
    "    Bff = fit_block(L[free_indices,:][:,free_indices])\n",
    "    Bfc = fit_block(L[free_indices,:][:,handle_indices])\n",
    "    Bcc = fit_block(L[handle_indices,:][:,handle_indices])\n",
    "    Bcf = fit_block(L[handle_indices,:][:,free_indices])\n",
    "    return Bff, Bfc, Bcc, Bcf"
   ]
  },
  {
   "cell_type": "code",
   "execution_count": null,
   "id": "d7620e7c",
   "metadata": {},
   "outputs": [],
   "source": [
    "v, f = igl.read_triangle_mesh('data/woody-lo.off')\n",
    "labels = np.load('data/woody-lo.label.npy').astype(int)\n",
    "v -= v.min(axis=0)\n",
    "v /= v.max()\n",
    "\n",
    "handle_indices = np.where(labels>0)[0]\n",
    "free_indices = np.where(labels==0)[0]\n",
    "        \n",
    "L = get_laplacian(f)\n",
    "deltaf, deltac = get_delta(L, v)\n",
    "Bff, Bfc, Bcc, Bcf = get_blocks(L, handle_indices, free_indices)\n",
    "\n",
    "C = 2*(Bff.T.dot(Bff) + Bcf.T.dot(Bcf))\n",
    "factor = cholesky(sp.csc_matrix(C))"
   ]
  },
  {
   "cell_type": "code",
   "execution_count": null,
   "id": "f12130f8",
   "metadata": {},
   "outputs": [],
   "source": [
    "handle_vertex_positions = v.copy()\n",
    "pos_f_saver = np.zeros((labels.max() + 1, 6))\n",
    "def pos_f(s,x,y,z, α, β, γ):\n",
    "    slices = (labels==s)\n",
    "    r = Rotation.from_euler('xyz', [α, β, γ], degrees=True)\n",
    "    v_slice = v[slices] + np.array([[x,y,z]])\n",
    "    center = v_slice.mean(axis=0)\n",
    "    handle_vertex_positions[slices] = r.apply(v_slice - center) + center\n",
    "    pos_f_saver[s - 1] = [x,y,z,α,β,γ]\n",
    "    t0 = time.time()\n",
    "    v_deformed = pos_f.deformer(handle_vertex_positions)\n",
    "    p.update_object(vertices = v_deformed)\n",
    "    t1 = time.time()\n",
    "    print('FPS', 1/(t1 - t0))"
   ]
  },
  {
   "cell_type": "code",
   "execution_count": null,
   "id": "54de78cd",
   "metadata": {},
   "outputs": [],
   "source": [
    "def widgets_wrapper():\n",
    "    segment_widget = iw.Dropdown(options=np.arange(labels.max()) + 1)\n",
    "    translate_widget = {i:iw.FloatSlider(min=-1, max=1, value=0) \n",
    "                        for i in 'xyz'}\n",
    "    rotate_widget = {a:iw.FloatSlider(min=-90, max=90, value=0, step=1) \n",
    "                     for a in 'αβγ'}\n",
    "\n",
    "    def update_seg(*args):\n",
    "        (translate_widget['x'].value,translate_widget['y'].value,\n",
    "        translate_widget['z'].value,\n",
    "        rotate_widget['α'].value,rotate_widget['β'].value,\n",
    "        rotate_widget['γ'].value) = pos_f_saver[segment_widget.value]\n",
    "    segment_widget.observe(update_seg, 'value')\n",
    "    widgets_dict = dict(s=segment_widget)\n",
    "    widgets_dict.update(translate_widget)\n",
    "    widgets_dict.update(rotate_widget)\n",
    "    return widgets_dict"
   ]
  },
  {
   "cell_type": "code",
   "execution_count": null,
   "id": "14ca3a52",
   "metadata": {},
   "outputs": [],
   "source": [
    "def position_deformer(target_pos):    \n",
    "    Vc = target_pos[handle_indices]\n",
    "    Vc = np.concatenate((Vc[:,0], Vc[:,1], Vc[:,2])).reshape(Vc.size, 1)\n",
    "    b = Bff.T.dot(Bfc).dot(Vc) + Bcf.T.dot(Bcc).dot(Vc) + Bff.T.dot(Bfc).dot(Vc) + Bcf.T.dot(Bcc).dot(Vc) -2*(Bff.T.dot(deltaf) + Bcf.T.dot(deltac))\n",
    "    res = factor(-b).reshape(3, free_indices.size).T\n",
    "    \n",
    "    target_pos[free_indices] = res\n",
    "    return target_pos\n",
    "pos_f.deformer = position_deformer"
   ]
  },
  {
   "cell_type": "code",
   "execution_count": null,
   "id": "d701dc2d",
   "metadata": {},
   "outputs": [],
   "source": [
    "p = mp.plot(handle_vertex_positions, f, c=labels)\n",
    "iw.interact(pos_f, **widgets_wrapper())"
   ]
  }
 ],
 "metadata": {
  "kernelspec": {
   "display_name": "Python 3",
   "language": "python",
   "name": "python3"
  },
  "language_info": {
   "codemirror_mode": {
    "name": "ipython",
    "version": 3
   },
   "file_extension": ".py",
   "mimetype": "text/x-python",
   "name": "python",
   "nbconvert_exporter": "python",
   "pygments_lexer": "ipython3",
   "version": "3.8.10"
  }
 },
 "nbformat": 4,
 "nbformat_minor": 5
}
