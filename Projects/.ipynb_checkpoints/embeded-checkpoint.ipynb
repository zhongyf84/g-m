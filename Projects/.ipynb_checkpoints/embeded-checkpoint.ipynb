{
 "cells": [
  {
   "cell_type": "code",
   "execution_count": 1,
   "id": "900dca55",
   "metadata": {},
   "outputs": [],
   "source": [
    "import numpy as np\n",
    "import igl\n",
    "import meshplot as mp\n",
    "from scipy.spatial.transform import Rotation\n",
    "import ipywidgets as iw\n",
    "import time\n",
    "import scipy.sparse as sp\n",
    "import random\n",
    "from sksparse.cholmod import cholesky"
   ]
  },
  {
   "cell_type": "code",
   "execution_count": 2,
   "id": "851d82cf",
   "metadata": {},
   "outputs": [],
   "source": [
    "class deformation:\n",
    "    def __init__(self, nodes, v, k=4):\n",
    "        self.nodes = nodes\n",
    "        self.v = v\n",
    "        self.k = k\n",
    "        self.nv = nodes.shape[0] # #nodes\n",
    "        self.ne = 0 # #edges\n",
    "        \n",
    "        self.dists = igl.all_pairs_distances(v, nodes, True)\n",
    "        self.knn = np.argsort(self.dists)[:,:k+1]\n",
    "        \n",
    "        self.A = np.zeros((nodes.shape[0], nodes.shape[0]))\n",
    "        self.__set_A()\n",
    "        \n",
    "    def __set_A(self):\n",
    "        for i in range(self.v.shape[0]):\n",
    "            n = self.knn[i][:-1]\n",
    "            for j in range(self.k):\n",
    "                for l in range(1, self.k):\n",
    "                    self.A[n[j], n[(j+l)%self.k]] = 1\n",
    "        self.ne = int(np.sum(self.A)//2)"
   ]
  },
  {
   "cell_type": "code",
   "execution_count": 3,
   "id": "6313fbe3",
   "metadata": {},
   "outputs": [],
   "source": [
    "class optimization:\n",
    "    def __init__(self, dg, handle_indices, handle_vertices):\n",
    "        self.dg = dg\n",
    "        self.handle_indices = handle_indices\n",
    "        self.handle_vertices = handle_vertices\n",
    "        self.p = handle_indices.size\n",
    "        \n",
    "        self.alpha = 1.0\n",
    "        self.w_rot = 1.0\n",
    "        self.w_reg = 10.0\n",
    "        self.w_con = 100.0\n",
    "        self.eps = 1e-6\n",
    "        self.m_iteration = 100\n",
    "        \n",
    "        self.R = np.zeros((dg.nv, 9))\n",
    "        self.T = np.zeros((dg.nv, 3))\n",
    "        self.x = np.zeros(12*dg.nv)\n",
    "        self.fx = np.zeros(6*dg.nv + 6*dg.ne + 3*self.p)\n",
    "        self.J = np.zeros((6*dg.nv + 6*dg.ne + 3*self.p, 12*dg.nv))\n",
    "        \n",
    "        for i in range(dg.nv):\n",
    "            self.R[i] = np.array([1., 0., 0., 0., 1., 0., 0., 0., 1.])\n",
    "        \n",
    "        \n",
    "    def F(self):\n",
    "        for i in range(self.dg.nv):\n",
    "            self.R[i] = self.x[12*i :12*i+9]\n",
    "            self.T[i] = self.x[12*i+9 :12*i+12]\n",
    "        \n",
    "        return self.w_rot*self.get_Erot() + self.w_reg*self.get_Ereg() + self.w_con*self.get_Econ()\n",
    "    \n",
    "    def get_fx(self):\n",
    "        index = 0\n",
    "        for i in range(self.dg.nv):\n",
    "            rot = self.R[i].reshape((3, 3))\n",
    "            c1, c2, c3 = rot[:, 0], rot[:, 1], rot[:, 2]\n",
    "            self.fx[index] = c1.dot(c2) * (self.w_rot**0.5)\n",
    "            self.fx[index+1] = c1.dot(c3) * (self.w_rot**0.5)\n",
    "            self.fx[index+2] = c2.dot(c3) * (self.w_rot**0.5)\n",
    "            self.fx[index+3] = (c1.dot(c1) - 1) * (self.w_rot**0.5)\n",
    "            self.fx[index+4] = (c2.dot(c2) - 1) * (self.w_rot**0.5)\n",
    "            self.fx[index+5] = (c3.dot(c3) - 1) * (self.w_rot**0.5)\n",
    "            index += 6\n",
    "        \n",
    "        for i in range(self.dg.nv):\n",
    "            for j in range(self.dg.nv):\n",
    "                if self.dg.A[i, j]:\n",
    "                    ri, ti = self.R[i].reshape((3, 3)), self.T[i]\n",
    "                    tj = self.T[j]\n",
    "                    d = ((self.alpha * self.w_reg) ** 0.5) * (ri.dot(self.dg.nodes[j] - self.dg.nodes[i]) + self.dg.nodes[i] + ti - self.dg.nodes[j] - tj)\n",
    "                    self.fx[index: index+3] = d\n",
    "                    index += 3\n",
    "        \n",
    "        for i in range(self.p):\n",
    "            q = self.handle_vertices[i]\n",
    "            v_ = self.predict(self.dg.v[self.handle_indices[i]])\n",
    "            d = (v_ - q) * self.w_con**0.5\n",
    "            self.fx[index: index+3] = d\n",
    "            index += 3\n",
    "            \n",
    "            \n",
    "    def get_J(self):\n",
    "        for i in range(self.dg.nv):\n",
    "            rot = self.R[i]\n",
    "            temp = np.array([[rot[1], rot[0], 0     , rot[4], rot[3], 0     , rot[7], rot[6], 0     ],\n",
    "                             [rot[2], 0     , rot[0], rot[5], 0     , rot[3], rot[8], 0     , rot[6]],\n",
    "                             [0     , rot[2], rot[1], 0     , rot[5], rot[4], 0     , rot[8], rot[7]],\n",
    "                             [2*rot[0], 0, 0, 2*rot[3], 0, 0, 2*rot[6], 0, 0],\n",
    "                             [0, 2*rot[1], 0, 0, 2*rot[4], 0, 0, 2*rot[7], 0],\n",
    "                             [0, 0, 2*rot[2], 0, 0, 2*rot[5], 0, 0, 2*rot[8]]])\n",
    "            temp *= self.w_rot**0.5\n",
    "            self.J[6*i: 6*i+6, 12*i: 12*i+9] = temp\n",
    "        \n",
    "        offset = 6*self.dg.nv\n",
    "        for i in range(self.dg.nv):\n",
    "            for j in range(self.dg.nv):\n",
    "                if self.dg.A[i, j]:\n",
    "                    diff = self.dg.nodes[j] - self.dg.nodes[i]\n",
    "                    diff *= (self.alpha * self.w_reg) ** 0.5\n",
    "                    for k in range(3):\n",
    "                        self.J[offset, 12*i+0+k] = self.J[offset, 12*i+3+k] = self.J[offset, 12*i+6+k] = diff[k]\n",
    "                        self.J[offset, 12*i+9+k] = (self.alpha * self.w_reg)**0.5\n",
    "                        self.J[offset, 12*j+9+k] = -(self.alpha * self.w_reg)**0.5\n",
    "                        offset += 1\n",
    "                    \n",
    "        \n",
    "        for l in range(self.p):\n",
    "            q = self.handle_vertices[l]\n",
    "            w, n = self.get_weights(self.dg.v[self.handle_indices[l]])\n",
    "#             w, n = self.get_weights(q)\n",
    "            for i in range(3):\n",
    "                for j in range(self.dg.k):\n",
    "                    index = n[j]\n",
    "                    diff = q[i] - self.dg.nodes[index, i]\n",
    "                    self.J[offset, 12*index+9+i] = w[j] * self.w_con**0.5\n",
    "                    self.J[offset, 12*index+0+i] = self.J[offset, 12*index+3+i] = self.J[offset, 12*index+6+i] = w[j] * diff * self.w_con**0.5\n",
    "                offset += 1\n",
    "                \n",
    "                \n",
    "    def solve(self):\n",
    "        for i in range(self.dg.nv):\n",
    "            self.x[12*i: 12*i+9] = self.R[i]\n",
    "            self.x[12*i+9: 12*i+12] = self.T[i]\n",
    "        \n",
    "        Fx, Fx_ = 0, self.F()\n",
    "        iterations = 0\n",
    "        print('iteration:', iterations, 'Fx:', Fx_)\n",
    "        while abs(Fx_ - Fx) >= self.eps*(1 + Fx_) and iterations < self.m_iteration:\n",
    "            Fx = Fx_\n",
    "            self.get_fx()\n",
    "            self.get_J()\n",
    "            JtJ = self.J.T.dot(self.J)\n",
    "            JtJ += 1e-8*np.identity(JtJ.shape[0])\n",
    "            factor = cholesky(sp.csc_matrix(JtJ))\n",
    "            delta = factor(-self.J.T.dot(self.fx))\n",
    "            self.x += delta\n",
    "            Fx_ = self.F()\n",
    "            iterations += 1\n",
    "            print('iteration:', iterations, 'Fx:', Fx_)\n",
    "            \n",
    "    def get_mesh(self):\n",
    "        mesh = self.dg.v.copy()\n",
    "        for l in range(self.p):\n",
    "            mesh[self.handle_indices[l]] = self.handle_vertices[l]\n",
    "        for i in range(mesh.shape[0]):\n",
    "            if i in self.handle_indices:\n",
    "                continue\n",
    "            mesh[i] = self.predict(mesh[i])\n",
    "        return mesh\n",
    "        \n",
    "    def get_weights(self, v):\n",
    "        dists = np.array([np.linalg.norm(v - self.dg.nodes[i]) for i in range(self.dg.nv)])\n",
    "        knn = np.argsort(dists)[:self.dg.k+1]\n",
    "        n, dmax = knn[:-1], dists[knn[-1]]\n",
    "        weights = np.zeros(self.dg.k)\n",
    "        for j in range(self.dg.k):\n",
    "            weights[j] = (1 - dists[knn[j]]/dmax)**2\n",
    "        weights /= np.sum(weights)\n",
    "        return weights, n\n",
    "        \n",
    "        \n",
    "    def predict(self, v):\n",
    "        weights, n = self.get_weights(v)\n",
    "        res = np.zeros(3)\n",
    "        for i in range(self.dg.k):\n",
    "            res += weights[i]*self.__transform(v, n[i])\n",
    "        return res\n",
    "        \n",
    "    def __transform(self, v, i):\n",
    "        return self.R[i].reshape((3, 3)).dot(v - self.dg.nodes[i]) + self.dg.nodes[i] + self.T[i]\n",
    "    \n",
    "    def get_Erot(self):\n",
    "        res = 0.0\n",
    "        for i in range(self.dg.nv):\n",
    "            r = self.R[i].reshape((3, 3))\n",
    "            c1, c2, c3 = r[:, 0], r[:, 1], r[:, 2]\n",
    "            rot = (c1.dot(c2))**2 + (c1.dot(c3))**2 + (c2.dot(c3))**2 + (c1.dot(c1)-1)**2 + (c2.dot(c2)-1)**2 + (c3.dot(c3)-1)**2\n",
    "            res += rot\n",
    "        return res\n",
    "    \n",
    "    def get_Ereg(self):\n",
    "        res = 0.0\n",
    "        for i in range(self.dg.nv):\n",
    "            neighbors = np.where(self.dg.A[i])[0]\n",
    "            for k in neighbors:\n",
    "                ri, ti = self.R[i].reshape((3, 3)), self.T[i]\n",
    "                tk = self.T[k]\n",
    "                d = ri.dot(self.dg.nodes[k] - self.dg.nodes[i]) + self.dg.nodes[i] + ti - self.dg.nodes[k] - tk\n",
    "                res += self.alpha*(d.dot(d))\n",
    "        return res\n",
    "    \n",
    "    def get_Econ(self):\n",
    "        res = 0.0\n",
    "        for i in range(self.p):\n",
    "            q = self.handle_vertices[i]\n",
    "            v_ = self.predict(self.dg.v[self.handle_indices[i]])\n",
    "#             v_ = self.predict(q)\n",
    "            res += (v_-q).dot(v_-q)\n",
    "        return res"
   ]
  },
  {
   "cell_type": "code",
   "execution_count": 4,
   "id": "813ae65a",
   "metadata": {},
   "outputs": [],
   "source": [
    "v, f = igl.read_triangle_mesh('data/cactus.off')\n",
    "v -= v.min(axis=0)\n",
    "v /= v.max()\n",
    "k=4\n",
    "dists = igl.all_pairs_distances(v, v, True)\n",
    "k=4\n",
    "n=300\n",
    "radius=0.0015"
   ]
  },
  {
   "cell_type": "code",
   "execution_count": 5,
   "id": "2bafeb77",
   "metadata": {},
   "outputs": [],
   "source": [
    "def sampling(vertices, nodes, dists, n, radius):\n",
    "    if len(nodes) == n or not vertices:\n",
    "        return\n",
    "    k = random.randint(0, len(vertices)-1)\n",
    "    vertex = vertices[k]\n",
    "    nodes.append(vertex)\n",
    "    dels = np.argwhere(dists[vertex] < radius)\n",
    "    dels = set(dels.reshape(dels.shape[0]))\n",
    "    vertices = list(set(vertices) - dels)\n",
    "    sampling(vertices, nodes, dists, n, radius)"
   ]
  },
  {
   "cell_type": "code",
   "execution_count": 6,
   "id": "c20168d0",
   "metadata": {},
   "outputs": [],
   "source": [
    "vertices = [i for i in range(v.shape[0])]\n",
    "nodes = []\n",
    "sampling(vertices, nodes, dists, n, radius)\n",
    "nodes = v[nodes]"
   ]
  },
  {
   "cell_type": "code",
   "execution_count": 7,
   "id": "87bfd080",
   "metadata": {},
   "outputs": [],
   "source": [
    "dg = deformation(nodes, v, k)\n",
    "labels = np.load('data/cactus.label.npy').astype(int)\n",
    "handle_indices = np.where(labels==1)[0]\n",
    "handle_vertices = v[handle_indices]\n",
    "for i in range(handle_vertices.shape[0]):\n",
    "    handle_vertices[i, 0] += 0.2"
   ]
  },
  {
   "cell_type": "code",
   "execution_count": 8,
   "id": "b04efae7",
   "metadata": {},
   "outputs": [
    {
     "data": {
      "application/vnd.jupyter.widget-view+json": {
       "model_id": "b2b7e22b7ac74e1da9744aed0339cd38",
       "version_major": 2,
       "version_minor": 0
      },
      "text/plain": [
       "Renderer(camera=PerspectiveCamera(children=(DirectionalLight(color='white', intensity=0.6, position=(0.0738738…"
      ]
     },
     "metadata": {},
     "output_type": "display_data"
    }
   ],
   "source": [
    "s = np.where(dg.A)\n",
    "edges = np.array(list(zip(s[0], s[1])))\n",
    "p = mp.plot(dg.nodes, f, shading = {\n",
    "           \"width\": 600, \"height\": 600, # Size of the viewer canvas\n",
    "           \"scale\": 2.0, # Scaling of the model\n",
    "           \"background\": \"#ffffff\", # Background color of the canvas\n",
    "           \"line_width\": 1.0, \"line_color\": \"black\", # Line properties of overlay lines\n",
    "           \"point_color\": \"red\", \"point_size\": 1 # Point properties of overlay points\n",
    "          })\n",
    "p.add_edges(nodes, edges, shading={\"line_color\": \"black\"});"
   ]
  },
  {
   "cell_type": "code",
   "execution_count": 9,
   "id": "6ebc5797",
   "metadata": {},
   "outputs": [],
   "source": [
    "# handle_vertex_positions = dg.v.copy()\n",
    "# pos_f_saver = np.zeros((labels.max() + 1, 6))\n",
    "# def pos_f(s,x,y,z, α, β, γ):\n",
    "#     slices = (labels==s)\n",
    "#     r = Rotation.from_euler('xyz', [α, β, γ], degrees=True)\n",
    "#     v_slice = dg.v[slices] + np.array([[x,y,z]])\n",
    "#     center = v_slice.mean(axis=0)\n",
    "#     handle_vertex_positions[slices] = r.apply(v_slice - center) + center\n",
    "#     pos_f_saver[s - 1] = [x,y,z,α,β,γ]\n",
    "#     t0 = time.time()\n",
    "#     v_deformed = pos_f.deformer(handle_vertex_positions)\n",
    "#     p.update_object(vertices = v_deformed)\n",
    "#     t1 = time.time()\n",
    "#     print('FPS', 1/(t1 - t0))"
   ]
  },
  {
   "cell_type": "code",
   "execution_count": 10,
   "id": "0a13f685",
   "metadata": {},
   "outputs": [],
   "source": [
    "# def widgets_wrapper():\n",
    "#     segment_widget = iw.Dropdown(options=np.arange(labels.max()) + 1)\n",
    "#     translate_widget = {i:iw.FloatSlider(min=-1, max=1, value=0) \n",
    "#                         for i in 'xyz'}\n",
    "#     rotate_widget = {a:iw.FloatSlider(min=-90, max=90, value=0, step=1) \n",
    "#                      for a in 'αβγ'}\n",
    "\n",
    "#     def update_seg(*args):\n",
    "#         (translate_widget['x'].value,translate_widget['y'].value,\n",
    "#         translate_widget['z'].value,\n",
    "#         rotate_widget['α'].value,rotate_widget['β'].value,\n",
    "#         rotate_widget['γ'].value) = pos_f_saver[segment_widget.value]\n",
    "#     segment_widget.observe(update_seg, 'value')\n",
    "#     widgets_dict = dict(s=segment_widget)\n",
    "#     widgets_dict.update(translate_widget)\n",
    "#     widgets_dict.update(rotate_widget)\n",
    "#     return widgets_dict"
   ]
  },
  {
   "cell_type": "code",
   "execution_count": 11,
   "id": "93759758",
   "metadata": {},
   "outputs": [],
   "source": [
    "# def position_deformer(target_pos):   \n",
    "#     target_pos =  optimization(dg, handle_indices, dg.v[handle_indices] + target_pos[handle_indices]).get_mesh()\n",
    "#     return target_pos\n",
    "# pos_f.deformer = position_deformer\n",
    "\n",
    "# p = mp.plot(handle_vertex_positions, f, c=labels)\n",
    "# iw.interact(pos_f, **widgets_wrapper())"
   ]
  },
  {
   "cell_type": "code",
   "execution_count": null,
   "id": "9f995b5b",
   "metadata": {},
   "outputs": [],
   "source": []
  },
  {
   "cell_type": "code",
   "execution_count": 12,
   "id": "52491a17",
   "metadata": {},
   "outputs": [],
   "source": [
    "ll =  optimization(dg, handle_indices, handle_vertices)"
   ]
  },
  {
   "cell_type": "code",
   "execution_count": 13,
   "id": "0096354a",
   "metadata": {},
   "outputs": [
    {
     "name": "stdout",
     "output_type": "stream",
     "text": [
      "iteration: 0 Fx: 2619.999999999962\n",
      "iteration: 1 Fx: 2.3321521294519134e-12\n",
      "iteration: 2 Fx: 1.5412849146571183e-12\n"
     ]
    }
   ],
   "source": [
    "ll.solve()"
   ]
  },
  {
   "cell_type": "code",
   "execution_count": 14,
   "id": "cb51e6a2",
   "metadata": {},
   "outputs": [],
   "source": [
    "xv = ll.get_mesh()"
   ]
  },
  {
   "cell_type": "code",
   "execution_count": 15,
   "id": "cdef93d1",
   "metadata": {},
   "outputs": [
    {
     "data": {
      "application/vnd.jupyter.widget-view+json": {
       "model_id": "8e34b201aab144d6a808d236b8e058f5",
       "version_major": 2,
       "version_minor": 0
      },
      "text/plain": [
       "Renderer(camera=PerspectiveCamera(children=(DirectionalLight(color='white', intensity=0.6, position=(0.2736866…"
      ]
     },
     "metadata": {},
     "output_type": "display_data"
    },
    {
     "data": {
      "text/plain": [
       "<meshplot.Viewer.Viewer at 0x7fa8b066c430>"
      ]
     },
     "execution_count": 15,
     "metadata": {},
     "output_type": "execute_result"
    }
   ],
   "source": [
    "mp.plot(xv)"
   ]
  },
  {
   "cell_type": "code",
   "execution_count": null,
   "id": "fa3e8651",
   "metadata": {},
   "outputs": [],
   "source": [
    "mp.plot(v, f)"
   ]
  },
  {
   "cell_type": "code",
   "execution_count": null,
   "id": "689ad6ce",
   "metadata": {},
   "outputs": [],
   "source": [
    "JtJ += 1e-8*np.identity(JtJ.shape[0])\n",
    "factor = cholesky(sp.csc_matrix(JtJ))\n",
    "delta = factor(-ll.J.T.dot(ll.fx))\n",
    "ll.x += delta\n",
    "Fx_ = ll.F()\n",
    "Fx_"
   ]
  },
  {
   "cell_type": "code",
   "execution_count": null,
   "id": "9abee893",
   "metadata": {},
   "outputs": [],
   "source": [
    "v_prime = v.copy()\n",
    "v_prime[0] = np.array([0, 1., 0])\n",
    "mp.plot(v_prime, f)"
   ]
  },
  {
   "cell_type": "code",
   "execution_count": null,
   "id": "6b765794",
   "metadata": {},
   "outputs": [],
   "source": [
    "vv[0] - v[0]"
   ]
  },
  {
   "cell_type": "code",
   "execution_count": 29,
   "id": "8aa6f9df",
   "metadata": {},
   "outputs": [
    {
     "data": {
      "text/plain": [
       "array([[ 2.00000007e-01,  1.52168522e-09, -5.04156394e-09],\n",
       "       [ 2.00000010e-01,  1.99101394e-09, -1.21251505e-08],\n",
       "       [ 2.00000007e-01,  1.23023181e-09, -4.34482827e-09],\n",
       "       ...,\n",
       "       [ 2.00000008e-01, -2.33373809e-09, -2.32424302e-09],\n",
       "       [ 2.00000000e-01,  0.00000000e+00,  0.00000000e+00],\n",
       "       [ 2.00000011e-01,  8.94633367e-10, -1.46884451e-08]])"
      ]
     },
     "execution_count": 29,
     "metadata": {},
     "output_type": "execute_result"
    }
   ],
   "source": [
    "xv-v"
   ]
  },
  {
   "cell_type": "code",
   "execution_count": 30,
   "id": "6bd1b654",
   "metadata": {},
   "outputs": [
    {
     "data": {
      "application/vnd.jupyter.widget-view+json": {
       "model_id": "4e90b09a409e4a22839df6755c334d09",
       "version_major": 2,
       "version_minor": 0
      },
      "text/plain": [
       "Renderer(camera=PerspectiveCamera(children=(DirectionalLight(color='white', intensity=0.6, position=(0.2736866…"
      ]
     },
     "metadata": {},
     "output_type": "display_data"
    },
    {
     "data": {
      "text/plain": [
       "<meshplot.Viewer.Viewer at 0x7f81e075b190>"
      ]
     },
     "execution_count": 30,
     "metadata": {},
     "output_type": "execute_result"
    }
   ],
   "source": [
    "mp.plot(xv, f)"
   ]
  },
  {
   "cell_type": "code",
   "execution_count": 33,
   "id": "bff70fbf",
   "metadata": {},
   "outputs": [
    {
     "data": {
      "text/plain": [
       "array([[ 1.00000000e+00, -1.09200675e-08,  2.21042769e-09, ...,\n",
       "        -2.19226297e-09, -1.05713695e-08,  1.00000000e+00],\n",
       "       [ 1.00000000e+00, -9.95824116e-09,  2.17073864e-09, ...,\n",
       "        -2.16527768e-09, -1.06690819e-08,  1.00000000e+00],\n",
       "       [ 1.00000000e+00, -1.02845791e-08,  7.79413758e-10, ...,\n",
       "        -7.74842941e-10, -1.14780414e-08,  1.00000000e+00],\n",
       "       ...,\n",
       "       [ 1.00000000e+00, -9.00009756e-09,  1.84839117e-09, ...,\n",
       "        -2.05510297e-09, -1.18602542e-08,  1.00000000e+00],\n",
       "       [ 1.00000000e+00, -8.36212657e-09,  2.42637025e-09, ...,\n",
       "        -2.52383283e-09, -1.12622357e-08,  1.00000000e+00],\n",
       "       [ 1.00000000e+00, -1.56964472e-08, -6.23938281e-09, ...,\n",
       "         8.38776963e-09,  1.71071657e-08,  1.00000000e+00]])"
      ]
     },
     "execution_count": 33,
     "metadata": {},
     "output_type": "execute_result"
    }
   ],
   "source": [
    "ll.R"
   ]
  },
  {
   "cell_type": "code",
   "execution_count": 34,
   "id": "5ee12afe",
   "metadata": {},
   "outputs": [
    {
     "ename": "NameError",
     "evalue": "name 'iterations' is not defined",
     "output_type": "error",
     "traceback": [
      "\u001b[0;31m---------------------------------------------------------------------------\u001b[0m",
      "\u001b[0;31mNameError\u001b[0m                                 Traceback (most recent call last)",
      "\u001b[0;32m<ipython-input-34-14286c9096ee>\u001b[0m in \u001b[0;36m<module>\u001b[0;34m\u001b[0m\n\u001b[0;32m----> 1\u001b[0;31m \u001b[0miterations\u001b[0m\u001b[0;34m\u001b[0m\u001b[0;34m\u001b[0m\u001b[0m\n\u001b[0m",
      "\u001b[0;31mNameError\u001b[0m: name 'iterations' is not defined"
     ]
    }
   ],
   "source": []
  },
  {
   "cell_type": "code",
   "execution_count": null,
   "id": "dbc722d0",
   "metadata": {},
   "outputs": [],
   "source": []
  }
 ],
 "metadata": {
  "kernelspec": {
   "display_name": "Python 3",
   "language": "python",
   "name": "python3"
  },
  "language_info": {
   "codemirror_mode": {
    "name": "ipython",
    "version": 3
   },
   "file_extension": ".py",
   "mimetype": "text/x-python",
   "name": "python",
   "nbconvert_exporter": "python",
   "pygments_lexer": "ipython3",
   "version": "3.8.10"
  }
 },
 "nbformat": 4,
 "nbformat_minor": 5
}
