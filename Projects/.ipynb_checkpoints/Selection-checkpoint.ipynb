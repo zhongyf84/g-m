{
 "cells": [
  {
   "cell_type": "code",
   "execution_count": 8,
   "id": "bd1fb1a3",
   "metadata": {},
   "outputs": [],
   "source": [
    "import numpy as np\n",
    "import igl\n",
    "import meshplot as mp\n",
    "from scipy.spatial.transform import Rotation\n",
    "import ipywidgets as iw"
   ]
  },
  {
   "cell_type": "code",
   "execution_count": 9,
   "id": "ec9c1f41",
   "metadata": {},
   "outputs": [],
   "source": [
    "with np.load('data/octa_sphere_5.npz') as npl:\n",
    "    v_s, f_s = npl['v'], npl['f']"
   ]
  },
  {
   "cell_type": "code",
   "execution_count": 10,
   "id": "aecd6aa1",
   "metadata": {},
   "outputs": [],
   "source": [
    "v, f = igl.read_triangle_mesh('data/woody-hi.off')\n",
    "segments_recording = np.zeros(len(v), dtype=int)"
   ]
  },
  {
   "cell_type": "code",
   "execution_count": 11,
   "id": "385c4f99",
   "metadata": {},
   "outputs": [],
   "source": [
    "v -= v.min(axis=0)\n",
    "v /= v.max()"
   ]
  },
  {
   "cell_type": "code",
   "execution_count": 12,
   "id": "6e0b4a1d",
   "metadata": {},
   "outputs": [
    {
     "data": {
      "application/vnd.jupyter.widget-view+json": {
       "model_id": "7c87da347847489d83ed43dc964743ac",
       "version_major": 2,
       "version_minor": 0
      },
      "text/plain": [
       "interactive(children=(ToggleButtons(description='Segment', options=(1, '+'), value=1), Output()), _dom_classes…"
      ]
     },
     "metadata": {},
     "output_type": "display_data"
    },
    {
     "data": {
      "application/vnd.jupyter.widget-view+json": {
       "model_id": "991ecf0576aa493aaff794dd59d67258",
       "version_major": 2,
       "version_minor": 0
      },
      "text/plain": [
       "HBox(children=(Button(description='Paint!', style=ButtonStyle()), Button(description='Clear!', style=ButtonSty…"
      ]
     },
     "metadata": {},
     "output_type": "display_data"
    },
    {
     "data": {
      "application/vnd.jupyter.widget-view+json": {
       "model_id": "ab3424e7e4cf45dda2c45fb1ba65a5ef",
       "version_major": 2,
       "version_minor": 0
      },
      "text/plain": [
       "Renderer(camera=PerspectiveCamera(children=(DirectionalLight(color='white', intensity=0.6, position=(0.4306930…"
      ]
     },
     "metadata": {},
     "output_type": "display_data"
    },
    {
     "ename": "TypeError",
     "evalue": "add_mesh() got an unexpected keyword argument 'flat'",
     "output_type": "error",
     "traceback": [
      "\u001b[0;31m---------------------------------------------------------------------------\u001b[0m",
      "\u001b[0;31mTypeError\u001b[0m                                 Traceback (most recent call last)",
      "\u001b[0;32m<ipython-input-12-d6e3825b98eb>\u001b[0m in \u001b[0;36m<module>\u001b[0;34m\u001b[0m\n\u001b[1;32m     27\u001b[0m \u001b[0;31m# Meshplot\u001b[0m\u001b[0;34m\u001b[0m\u001b[0;34m\u001b[0m\u001b[0;34m\u001b[0m\u001b[0m\n\u001b[1;32m     28\u001b[0m \u001b[0mpaint_ui\u001b[0m \u001b[0;34m=\u001b[0m \u001b[0mmp\u001b[0m\u001b[0;34m.\u001b[0m\u001b[0mplot\u001b[0m\u001b[0;34m(\u001b[0m\u001b[0mv\u001b[0m\u001b[0;34m,\u001b[0m\u001b[0mf\u001b[0m\u001b[0;34m,\u001b[0m\u001b[0mc\u001b[0m\u001b[0;34m=\u001b[0m\u001b[0msegments_recording\u001b[0m\u001b[0;34m)\u001b[0m\u001b[0;34m\u001b[0m\u001b[0;34m\u001b[0m\u001b[0m\n\u001b[0;32m---> 29\u001b[0;31m \u001b[0mpaint_ui\u001b[0m\u001b[0;34m.\u001b[0m\u001b[0madd_mesh\u001b[0m\u001b[0;34m(\u001b[0m\u001b[0mv_s\u001b[0m\u001b[0;34m*\u001b[0m\u001b[0;36m0.1\u001b[0m\u001b[0;34m,\u001b[0m \u001b[0mf_s\u001b[0m\u001b[0;34m,\u001b[0m\u001b[0mflat\u001b[0m\u001b[0;34m=\u001b[0m\u001b[0;32mFalse\u001b[0m\u001b[0;34m,\u001b[0m\u001b[0mc\u001b[0m\u001b[0;34m=\u001b[0m\u001b[0mnp\u001b[0m\u001b[0;34m.\u001b[0m\u001b[0marray\u001b[0m\u001b[0;34m(\u001b[0m\u001b[0;34m[\u001b[0m\u001b[0;36m1\u001b[0m\u001b[0;34m,\u001b[0m\u001b[0;36m0\u001b[0m\u001b[0;34m,\u001b[0m\u001b[0;36m0\u001b[0m\u001b[0;34m]\u001b[0m\u001b[0;34m)\u001b[0m\u001b[0;34m)\u001b[0m\u001b[0;34m\u001b[0m\u001b[0;34m\u001b[0m\u001b[0m\n\u001b[0m\u001b[1;32m     30\u001b[0m \u001b[0;32mdef\u001b[0m \u001b[0msf\u001b[0m\u001b[0;34m(\u001b[0m\u001b[0mradius\u001b[0m\u001b[0;34m,\u001b[0m\u001b[0mx\u001b[0m\u001b[0;34m,\u001b[0m\u001b[0my\u001b[0m\u001b[0;34m,\u001b[0m\u001b[0mz\u001b[0m\u001b[0;34m)\u001b[0m\u001b[0;34m:\u001b[0m\u001b[0;34m\u001b[0m\u001b[0;34m\u001b[0m\u001b[0m\n\u001b[1;32m     31\u001b[0m     \u001b[0mpaint_ui\u001b[0m\u001b[0;34m.\u001b[0m\u001b[0mupdate_object\u001b[0m\u001b[0;34m(\u001b[0m\u001b[0moid\u001b[0m \u001b[0;34m=\u001b[0m \u001b[0;36m1\u001b[0m\u001b[0;34m,\u001b[0m \u001b[0mvertices\u001b[0m \u001b[0;34m=\u001b[0m \u001b[0mv_s\u001b[0m\u001b[0;34m*\u001b[0m\u001b[0mradius\u001b[0m \u001b[0;34m+\u001b[0m \u001b[0mnp\u001b[0m\u001b[0;34m.\u001b[0m\u001b[0marray\u001b[0m\u001b[0;34m(\u001b[0m\u001b[0;34m[\u001b[0m\u001b[0mx\u001b[0m\u001b[0;34m,\u001b[0m\u001b[0my\u001b[0m\u001b[0;34m,\u001b[0m\u001b[0mz\u001b[0m\u001b[0;34m]\u001b[0m\u001b[0;34m)\u001b[0m\u001b[0;34m)\u001b[0m\u001b[0;34m\u001b[0m\u001b[0;34m\u001b[0m\u001b[0m\n",
      "\u001b[0;31mTypeError\u001b[0m: add_mesh() got an unexpected keyword argument 'flat'"
     ]
    }
   ],
   "source": [
    "tb = iw.ToggleButtons(description='Segment', options=[1,'+'])\n",
    "@mp.interact(x=tb)\n",
    "def s_but(x):\n",
    "    if x == '+':\n",
    "        tb.options = list(range(1,len(tb.options)+1)) + ['+']\n",
    "        tb.value = len(tb.options) - 1\n",
    "    else:\n",
    "        tb.current = x\n",
    "\n",
    "button = iw.Button(description=\"Paint!\")\n",
    "clear_button = iw.Button(description=\"Clear!\")\n",
    "\n",
    "# Set Callback\n",
    "def paint_clicked(b):\n",
    "    slicer = np.where(np.linalg.norm(v - sf.coord[1:],axis=1) < sf.coord[0])[0]\n",
    "    segments_recording[slicer] = tb.current\n",
    "    paint_ui.update_object(oid=0, colors=segments_recording)\n",
    "def clear_clicked(b):\n",
    "    segments_recording[segments_recording == tb.current] = 0\n",
    "    paint_ui.update_object(oid=0, colors=segments_recording)\n",
    "button.on_click(paint_clicked)\n",
    "clear_button.on_click(clear_clicked)\n",
    "\n",
    "# Display Buttons\n",
    "display(iw.HBox([button, clear_button]))\n",
    "\n",
    "# Meshplot\n",
    "paint_ui = mp.plot(v,f,c=segments_recording)\n",
    "paint_ui.add_mesh(v_s*0.1, f_s, shading={\"flat\":False},c=np.array([1,0,0]))\n",
    "def sf(radius,x,y,z):\n",
    "    paint_ui.update_object(oid = 1, vertices = v_s*radius + np.array([x,y,z]))\n",
    "    sf.coord = [radius,x,y,z]\n",
    "mp.interact(sf, \n",
    "            radius = iw.FloatSlider(min=0.1, max=1, value=0.1),\n",
    "            x = iw.FloatSlider(min=-0.1, max=1, value=0),\n",
    "            y = iw.FloatSlider(min=-0.1, max=1, value=0),\n",
    "            z = iw.FloatSlider(min=-0.1, max=1, value=0))"
   ]
  },
  {
   "cell_type": "code",
   "execution_count": 13,
   "id": "86c7f5c5",
   "metadata": {},
   "outputs": [],
   "source": [
    "np.save('data/woody-hi.label.npy', segments_recording)"
   ]
  },
  {
   "cell_type": "code",
   "execution_count": null,
   "id": "cf7e8bf3",
   "metadata": {},
   "outputs": [],
   "source": []
  }
 ],
 "metadata": {
  "kernelspec": {
   "display_name": "Python 3",
   "language": "python",
   "name": "python3"
  },
  "language_info": {
   "codemirror_mode": {
    "name": "ipython",
    "version": 3
   },
   "file_extension": ".py",
   "mimetype": "text/x-python",
   "name": "python",
   "nbconvert_exporter": "python",
   "pygments_lexer": "ipython3",
   "version": "3.8.10"
  }
 },
 "nbformat": 4,
 "nbformat_minor": 5
}
