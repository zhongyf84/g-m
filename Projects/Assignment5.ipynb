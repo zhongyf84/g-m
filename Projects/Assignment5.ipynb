{
 "cells": [
  {
   "cell_type": "code",
   "execution_count": 1,
   "id": "6931bafe",
   "metadata": {},
   "outputs": [],
   "source": [
    "import numpy as np\n",
    "import igl\n",
    "import meshplot as mp\n",
    "from scipy.spatial.transform import Rotation\n",
    "import ipywidgets as iw\n",
    "import time\n",
    "import scipy.sparse as sp\n",
    "from sksparse.cholmod import cholesky\n",
    "import scipy.linalg"
   ]
  },
  {
   "cell_type": "code",
   "execution_count": 2,
   "id": "3b63e478",
   "metadata": {},
   "outputs": [],
   "source": [
    "v, f = igl.read_triangle_mesh('data/cactus.off') # change the input mesh here\n",
    "labels = np.load('data/cactus.label.npy').astype(int)\n",
    "v -= v.min(axis=0)\n",
    "v /= v.max()\n",
    "\n",
    "handle_vertex_positions = v.copy()\n",
    "pos_f_saver = np.zeros((labels.max() + 1, 6))\n",
    "def pos_f(s,x,y,z, α, β, γ):\n",
    "    slices = (labels==s)\n",
    "    r = Rotation.from_euler('xyz', [α, β, γ], degrees=True)\n",
    "    v_slice = v[slices] + np.array([[x,y,z]])\n",
    "    center = v_slice.mean(axis=0)\n",
    "    handle_vertex_positions[slices] = r.apply(v_slice - center) + center\n",
    "    pos_f_saver[s - 1] = [x,y,z,α,β,γ]\n",
    "    t0 = time.time()\n",
    "    v_deformed = pos_f.deformer(handle_vertex_positions)\n",
    "    p.update_object(vertices = v_deformed)\n",
    "    t1 = time.time()\n",
    "    print('FPS', 1/(t1 - t0))"
   ]
  },
  {
   "cell_type": "code",
   "execution_count": 3,
   "id": "3536f587",
   "metadata": {},
   "outputs": [],
   "source": [
    "def widgets_wrapper():\n",
    "    segment_widget = iw.Dropdown(options=np.arange(labels.max()) + 1)\n",
    "    translate_widget = {i:iw.FloatSlider(min=-1, max=1, value=0) \n",
    "                        for i in 'xyz'}\n",
    "    rotate_widget = {a:iw.FloatSlider(min=-90, max=90, value=0, step=1) \n",
    "                     for a in 'αβγ'}\n",
    "\n",
    "    def update_seg(*args):\n",
    "        (translate_widget['x'].value,translate_widget['y'].value,\n",
    "        translate_widget['z'].value,\n",
    "        rotate_widget['α'].value,rotate_widget['β'].value,\n",
    "        rotate_widget['γ'].value) = pos_f_saver[segment_widget.value]\n",
    "    segment_widget.observe(update_seg, 'value')\n",
    "    widgets_dict = dict(s=segment_widget)\n",
    "    widgets_dict.update(translate_widget)\n",
    "    widgets_dict.update(rotate_widget)\n",
    "    return widgets_dict"
   ]
  },
  {
   "cell_type": "code",
   "execution_count": 4,
   "id": "b0f146fa",
   "metadata": {},
   "outputs": [],
   "source": [
    "def get_handle_indices(labels):\n",
    "    return np.argwhere(labels>0)[:, 0]"
   ]
  },
  {
   "cell_type": "code",
   "execution_count": 5,
   "id": "2afa3a55",
   "metadata": {},
   "outputs": [],
   "source": [
    "def get_free_indices(labels):\n",
    "    return np.argwhere(labels==0)[:, 0]"
   ]
  },
  {
   "cell_type": "code",
   "execution_count": 6,
   "id": "a0b3831d",
   "metadata": {},
   "outputs": [],
   "source": [
    "def get_factor(v, f, free_indices, handle_indices): # get factor and Afc\n",
    "    Lw = igl.cotmatrix(v, f)\n",
    "    M = igl.massmatrix(v, f)\n",
    "    Minv = sp.diags(1 / M.diagonal())\n",
    "    A = Lw.dot(Minv).dot(Lw)\n",
    "    Aff = A[free_indices,:][:,free_indices]\n",
    "    Afc = A[free_indices,:][:,handle_indices]\n",
    "    factor = cholesky(Aff)\n",
    "    return factor, Afc"
   ]
  },
  {
   "cell_type": "code",
   "execution_count": 7,
   "id": "c22b34c5",
   "metadata": {},
   "outputs": [],
   "source": [
    "def smooth_mesh(v, f, handle_indices, free_indices, factor, Afc): # get the smoothed mesh\n",
    "    handle_vertices = v[handle_indices,:]\n",
    "    b = -Afc.dot(handle_vertices)\n",
    "    res = factor(b)\n",
    "    B = v.copy()\n",
    "    for i, index in enumerate(free_indices):\n",
    "        B[index] = res[i]\n",
    "    return B"
   ]
  },
  {
   "cell_type": "code",
   "execution_count": 8,
   "id": "4acbf20c",
   "metadata": {},
   "outputs": [],
   "source": [
    "def computeBasis(v, f, free_indices, creation=True, farest=None):\n",
    "    # if creation is True, compute the basis for B, if not, then\n",
    "    # compute the basis for B' (in this case, farest is provided).\n",
    "    n = igl.per_vertex_normals(v, f)\n",
    "    adjList = igl.adjacency_list(f)\n",
    "    X, Y, Z = np.zeros((free_indices.size, 3)), np.zeros((free_indices.size, 3)), np.zeros((free_indices.size, 3))\n",
    "    if creation:\n",
    "        farest = np.zeros(free_indices.size, dtype='int')\n",
    "    for i, index in enumerate(free_indices):\n",
    "        X[i] = n[index]\n",
    "        if creation:\n",
    "            neighbors = adjList[index]\n",
    "            dists = [np.linalg.norm(neighbor - v[index]) for neighbor in neighbors]\n",
    "            farest[i] = neighbors[np.argmax(dists)]\n",
    "        edgeY = v[farest[i]] - v[index]\n",
    "        proj = (edgeY.dot(X[i])/X[i].dot(X[i]))*X[i]\n",
    "        y = edgeY - proj\n",
    "        y /= np.linalg.norm(y)\n",
    "        Y[i] = y\n",
    "        z = np.cross(X[i], y)\n",
    "        z /= np.linalg.norm(z)\n",
    "        Z[i] = z\n",
    "    return X, Y, Z, farest"
   ]
  },
  {
   "cell_type": "code",
   "execution_count": 9,
   "id": "dd13b49e",
   "metadata": {},
   "outputs": [],
   "source": [
    "def displacement(vB, vS, X, Y, Z, free_indices): # compute the displacement\n",
    "    res = np.zeros((free_indices.size, 3))\n",
    "    for i, index in enumerate(free_indices):\n",
    "        x, y, z = X[i], Y[i], Z[i]\n",
    "        diff = vS[index] - vB[index]\n",
    "        res[i, 0] = diff.dot(x)\n",
    "        res[i, 1] = diff.dot(y)\n",
    "        res[i, 2] = diff.dot(z)\n",
    "    return res"
   ]
  },
  {
   "cell_type": "code",
   "execution_count": 10,
   "id": "96f07a6f",
   "metadata": {},
   "outputs": [
    {
     "name": "stderr",
     "output_type": "stream",
     "text": [
      "/Users/zhongyifan/opt/miniconda3/lib/python3.8/site-packages/jupyter_client/session.py:718: UserWarning: Message serialization failed with:\n",
      "Out of range float values are not JSON compliant\n",
      "Supporting this message is deprecated in jupyter-client 7, please make sure your message is JSON-compliant\n",
      "  content = self.pack(content)\n"
     ]
    },
    {
     "data": {
      "application/vnd.jupyter.widget-view+json": {
       "model_id": "f2fbd57cf8f94faf9606ef320ecfe53c",
       "version_major": 2,
       "version_minor": 0
      },
      "text/plain": [
       "Renderer(camera=PerspectiveCamera(children=(DirectionalLight(color='white', intensity=0.6, position=(0.0736866…"
      ]
     },
     "metadata": {},
     "output_type": "display_data"
    },
    {
     "data": {
      "application/vnd.jupyter.widget-view+json": {
       "model_id": "bc3204fe35334eedad4fe5be1f9a2102",
       "version_major": 2,
       "version_minor": 0
      },
      "text/plain": [
       "interactive(children=(Dropdown(description='s', options=(1, 2, 3), value=1), FloatSlider(value=0.0, descriptio…"
      ]
     },
     "metadata": {},
     "output_type": "display_data"
    },
    {
     "data": {
      "text/plain": [
       "<function __main__.pos_f(s, x, y, z, α, β, γ)>"
      ]
     },
     "execution_count": 10,
     "metadata": {},
     "output_type": "execute_result"
    }
   ],
   "source": [
    "def position_deformer(target_pos):\n",
    "    handle_indices = get_handle_indices(labels)\n",
    "    free_indices = get_free_indices(labels)\n",
    "    factor, Afc = get_factor(v, f, free_indices, handle_indices)\n",
    "    B = smooth_mesh(v, f, handle_indices, free_indices, factor, Afc)\n",
    "    B_prime = smooth_mesh(handle_vertex_positions, f, handle_indices, free_indices, factor, Afc)\n",
    "    X, Y, Z, farest = computeBasis(B, f, free_indices)\n",
    "    X_prime, Y_prime, Z_prime, _ = computeBasis(B_prime, f, free_indices, False, farest)\n",
    "    disp = displacement(B, v, X, Y, Z, free_indices)\n",
    "    S_prime = B_prime.copy()\n",
    "    for i, index in enumerate(free_indices):\n",
    "        S_prime[index] += (disp[i,0]*X_prime[i] + disp[i,1]*Y_prime[i] + disp[i,2]*Z_prime[i])\n",
    "    return S_prime\n",
    "pos_f.deformer = position_deformer\n",
    "\n",
    "## Widget UI\n",
    "## edit the mesh here\n",
    "p = mp.plot(handle_vertex_positions, f, c=labels)\n",
    "iw.interact(pos_f, **widgets_wrapper())"
   ]
  },
  {
   "cell_type": "code",
   "execution_count": 11,
   "id": "8a9c3b46",
   "metadata": {},
   "outputs": [
    {
     "data": {
      "application/vnd.jupyter.widget-view+json": {
       "model_id": "fce438ad5db44d3697f773ea1be41a7b",
       "version_major": 2,
       "version_minor": 0
      },
      "text/plain": [
       "HBox(children=(Output(), Output(), Output(), Output()))"
      ]
     },
     "metadata": {},
     "output_type": "display_data"
    }
   ],
   "source": [
    "handle_indices = get_handle_indices(labels)\n",
    "free_indices = get_free_indices(labels)\n",
    "factor, Afc = get_factor(v, f, free_indices, handle_indices)\n",
    "\n",
    "B = smooth_mesh(v, f, handle_indices, free_indices, factor, Afc)\n",
    "\n",
    "B_prime = smooth_mesh(handle_vertex_positions, f, handle_indices, free_indices, factor, Afc)\n",
    "\n",
    "X, Y, Z, farest = computeBasis(B, f, free_indices)\n",
    "X_prime, Y_prime, Z_prime, _ = computeBasis(B_prime, f, free_indices, False, farest)\n",
    "disp = displacement(B, v, X, Y, Z, free_indices)\n",
    "S_prime = B_prime.copy()\n",
    "for i, index in enumerate(free_indices):\n",
    "    S_prime[index] += (disp[i,0]*X_prime[i] + disp[i,1]*Y_prime[i] + disp[i,2]*Z_prime[i])\n",
    "\n",
    "q = mp.subplot(v, f, c=labels, shading = {\"wireframe\": True}, s=[1,4,0])\n",
    "mp.subplot(B, f, c=labels, shading = {\"wireframe\": True}, s=[1,4,1], data=q)\n",
    "mp.subplot(B_prime, f, c=labels, shading = {\"wireframe\": True}, s=[1,4,2], data=q)\n",
    "mp.subplot(S_prime, f, c=labels, shading = {\"wireframe\": True}, s=[1,4,3], data=q)\n",
    "\n",
    "# From left to right:\n",
    "# S (input mesh), B (smoothed mesh), B' (deformed/smoothed mesh), S' (final deformation results)"
   ]
  },
  {
   "cell_type": "code",
   "execution_count": null,
   "id": "b37b821c",
   "metadata": {},
   "outputs": [],
   "source": []
  }
 ],
 "metadata": {
  "kernelspec": {
   "display_name": "Python 3 (ipykernel)",
   "language": "python",
   "name": "python3"
  },
  "language_info": {
   "codemirror_mode": {
    "name": "ipython",
    "version": 3
   },
   "file_extension": ".py",
   "mimetype": "text/x-python",
   "name": "python",
   "nbconvert_exporter": "python",
   "pygments_lexer": "ipython3",
   "version": "3.8.10"
  }
 },
 "nbformat": 4,
 "nbformat_minor": 5
}
