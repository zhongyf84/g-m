{
 "cells": [
  {
   "cell_type": "markdown",
   "metadata": {},
   "source": [
    "# Neighborhood Computations"
   ]
  },
  {
   "cell_type": "code",
   "execution_count": null,
   "metadata": {},
   "outputs": [],
   "source": [
    "import numpy as np\n",
    "import igl\n",
    "import meshplot"
   ]
  },
  {
   "cell_type": "code",
   "execution_count": null,
   "metadata": {},
   "outputs": [],
   "source": [
    "bunny_v, bunny_f = igl.read_triangle_mesh(\"data/bunny.off\")\n",
    "bumpy_v, bumpy_f = igl.read_triangle_mesh(\"data/bumpy.off\")\n",
    "cube_v, cube_f = igl.read_triangle_mesh(\"data/cube.obj\")\n",
    "sphere_v, sphere_f = igl.read_triangle_mesh(\"data/sphere.obj\")\n",
    "car_v, car_f = igl.read_triangle_mesh(\"data/car.off\")\n",
    "coffeecup_v, coffeecup_f = igl.read_triangle_mesh(\"data/coffeecup.off\")"
   ]
  },
  {
   "cell_type": "code",
   "execution_count": null,
   "metadata": {},
   "outputs": [],
   "source": [
    "meshplot.plot(bunny_v, bunny_f, shading={\"wireframe\": True})\n",
    "meshplot.plot(sphere_v, sphere_f, shading={\"wireframe\": True})\n",
    "meshplot.plot(bumpy_v, bumpy_f, shading={\"wireframe\": True})\n",
    "meshplot.plot(car_v, car_f, shading={\"wireframe\": True})\n",
    "meshplot.plot(cube_v, cube_f, shading={\"wireframe\": True})\n",
    "meshplot.plot(coffeecup_v, coffeecup_f, shading={\"wireframe\": True})"
   ]
  },
  {
   "cell_type": "markdown",
   "metadata": {},
   "source": [
    "## Vertex-to-Face Relations"
   ]
  },
  {
   "cell_type": "code",
   "execution_count": null,
   "metadata": {},
   "outputs": [],
   "source": [
    "def vertex_to_face(V, F):\n",
    "    print('Vertex ID            Adjacent Faces')\n",
    "    VF, NI = igl.vertex_triangle_adjacency(F, len(V))\n",
    "    str_VF = [str(x) for x in VF]\n",
    "    for i in range(len(V)):\n",
    "         print(f'{i}'.ljust(20), f'{\" \".join(str_VF[NI[i]: NI[i+1]])}')\n",
    "\n",
    "# vertex_to_face(bunny_v, bunny_f)\n",
    "# vertex_to_face(bumpy_v, bumpy_f)\n",
    "# vertex_to_face(cube_v, cube_f)\n",
    "# vertex_to_face(sphere_v, sphere_f)\n",
    "# vertex_to_face(car_v, car_f)\n",
    "# vertex_to_face(coffeecup_v, coffeecup_f)"
   ]
  },
  {
   "cell_type": "markdown",
   "metadata": {},
   "source": [
    "## Vertex-to-Vertex Relations"
   ]
  },
  {
   "cell_type": "code",
   "execution_count": null,
   "metadata": {},
   "outputs": [],
   "source": [
    "def vertex_to_vertex(V, F):\n",
    "    print('Vertex ID            Adjacent Vertices')\n",
    "    adj_list = igl.adjacency_list(F)\n",
    "    for i in range(len(V)):\n",
    "        print(f'{i}'.ljust(20), f'{\" \".join([str(x) for x in adj_list[i]])}')\n",
    "        \n",
    "# vertex_to_vertex(bunny_v, bunny_f)\n",
    "# vertex_to_vertex(bumpy_v, bumpy_f)\n",
    "# vertex_to_vertex(cube_v, cube_f)\n",
    "# vertex_to_vertex(sphere_v, sphere_f)\n",
    "# vertex_to_vertex(car_v, car_f)\n",
    "# vertex_to_vertex(coffeecup_v, coffeecup_f)"
   ]
  },
  {
   "cell_type": "markdown",
   "metadata": {},
   "source": [
    "## Visualizing the Neighborhood Relations "
   ]
  },
  {
   "cell_type": "code",
   "execution_count": null,
   "metadata": {},
   "outputs": [],
   "source": [
    "vertex_to_face(bunny_v, bunny_f)\n",
    "vertex_to_vertex(bunny_v, bunny_f)\n",
    "\n",
    "# see bunny_vertex_to_face.txt and bunny_vertex_to_vertex.txt."
   ]
  },
  {
   "cell_type": "markdown",
   "metadata": {},
   "source": [
    "## Shading\n",
    "\n",
    "Meshplot requires per vertex normals, so we need to \"explode\" the mesh"
   ]
  },
  {
   "cell_type": "markdown",
   "metadata": {},
   "source": [
    "### Flat Shading"
   ]
  },
  {
   "cell_type": "code",
   "execution_count": null,
   "metadata": {},
   "outputs": [],
   "source": [
    "def flat_shading(V, F):\n",
    "    N = igl.per_face_normals(V, F, np.array([0., 0, 0]))\n",
    "    nV, nF = np.zeros((3*len(F), 3)), np.arange(3*len(F)).reshape(len(F), 3)\n",
    "    \n",
    "    for axis, (x, y, z) in enumerate(F):\n",
    "        nV[3*axis]   = V[x]\n",
    "        nV[3*axis+1] = V[y]\n",
    "        nV[3*axis+2] = V[z]\n",
    "    \n",
    "    vN = np.zeros((len(nV), 3))\n",
    "    \n",
    "    for i in range(len(N)):\n",
    "        vN[3*i]   = N[i]\n",
    "        vN[3*i+1] = N[i]\n",
    "        vN[3*i+2] = N[i]\n",
    "    \n",
    "    meshplot.plot(nV, nF, n=vN, shading={\"wireframe\": True, 'flat': False}, c=np.array([0.75, 0.75, 0.75]))\n",
    "    \n",
    "# flat_shading(cube_v, cube_f)\n",
    "# flat_shading(sphere_v, sphere_f)\n",
    "flat_shading(bunny_v, bunny_f)\n",
    "# flat_shading(bumpy_v, bumpy_f)\n",
    "# flat_shading(car_v, car_f)\n",
    "# flat_shading(coffeecup_v, coffeecup_f)"
   ]
  },
  {
   "cell_type": "markdown",
   "metadata": {},
   "source": [
    "### Per-vertex Shading"
   ]
  },
  {
   "cell_type": "code",
   "execution_count": null,
   "metadata": {},
   "outputs": [],
   "source": [
    "def per_vertex_shading(V, F):\n",
    "    N = igl.per_vertex_normals(V, F)\n",
    "    meshplot.plot(V, F, n=N, shading={\"wireframe\": True, 'flat': False}, c=np.array([0.75, 0.75, 0.75]))\n",
    "\n",
    "# per_vertex_shading(cube_v, cube_f)\n",
    "# per_vertex_shading(sphere_v, sphere_f)\n",
    "# per_vertex_shading(bunny_v, bunny_f)\n",
    "# per_vertex_shading(bumpy_v, bumpy_f)\n",
    "# per_vertex_shading(car_v, car_f)\n",
    "# per_vertex_shading(coffeecup_v, coffeecup_f)"
   ]
  },
  {
   "cell_type": "markdown",
   "metadata": {},
   "source": [
    "### Per-corner Shading"
   ]
  },
  {
   "cell_type": "code",
   "execution_count": null,
   "metadata": {},
   "outputs": [],
   "source": [
    "def per_corner_shading(V, F):\n",
    "    N = igl.per_corner_normals(V, F, 20)\n",
    "    \n",
    "    nV, nF = np.zeros((3*len(F), 3)), np.arange(3*len(F)).reshape(len(F), 3)\n",
    "    \n",
    "    for axis, (x, y, z) in enumerate(F):\n",
    "        nV[3*axis]   = V[x]\n",
    "        nV[3*axis+1] = V[y]\n",
    "        nV[3*axis+2] = V[z]\n",
    "        \n",
    "    vN = np.zeros((len(nV), 3))\n",
    "    \n",
    "    for i in range(len(F)):\n",
    "        vN[3*i]   = N[3*i+0]\n",
    "        vN[3*i+1] = N[3*i+1]\n",
    "        vN[3*i+2] = N[3*i+2]\n",
    "    \n",
    "    meshplot.plot(nV, nF, n=vN, shading={\"wireframe\": True, 'flat': False}, c=np.array([0.75, 0.75, 0.75]))\n",
    "    \n",
    "# per_corner_shading(cube_v, cube_f)\n",
    "# per_corner_shading(sphere_v, sphere_f)\n",
    "# per_corner_shading(bunny_v, bunny_f)\n",
    "# per_corner_shading(bumpy_v, bumpy_f)\n",
    "# per_corner_shading(car_v, car_f)\n",
    "# per_corner_shading(coffeecup_v, coffeecup_f)"
   ]
  },
  {
   "cell_type": "code",
   "execution_count": null,
   "metadata": {},
   "outputs": [],
   "source": [
    "# see Shading.pdf"
   ]
  },
  {
   "cell_type": "markdown",
   "metadata": {},
   "source": [
    "## Connected Components"
   ]
  },
  {
   "cell_type": "code",
   "execution_count": null,
   "metadata": {},
   "outputs": [],
   "source": [
    "def connected_components(V, F):\n",
    "    C = igl.face_components(F)\n",
    "    meshplot.plot(V, F, c=C, shading={\"colormap\": \"gist_ncar\"})\n",
    "    count = [0] * (1+max(C))\n",
    "    for c in C:\n",
    "        count[c] += 1\n",
    "    print(f'The number of connected components: {len(count)}.\\n')\n",
    "    print(f'The size of each component measured in number of faces:\\n')\n",
    "    print(f'component No.        size')\n",
    "    for c, size in enumerate(count):\n",
    "        print(f'{c}'.ljust(20), size)\n",
    "\n",
    "# connected_components(car_v, car_f)\n",
    "# connected_components(coffeecup_v, coffeecup_f)\n",
    "# connected_components(cube_v, cube_f)\n",
    "# connected_components(sphere_v, sphere_f)\n",
    "# connected_components(bunny_v, bunny_f)\n",
    "# connected_components(bumpy_v, bumpy_f)"
   ]
  },
  {
   "cell_type": "code",
   "execution_count": null,
   "metadata": {},
   "outputs": [],
   "source": [
    "# see Connected_components.pdf"
   ]
  },
  {
   "cell_type": "markdown",
   "metadata": {},
   "source": [
    "## A simple subdivision scheme"
   ]
  },
  {
   "cell_type": "code",
   "execution_count": 12,
   "metadata": {},
   "outputs": [
    {
     "data": {
      "application/vnd.jupyter.widget-view+json": {
       "model_id": "1b1853c7596643fc827872187efc5569",
       "version_major": 2,
       "version_minor": 0
      },
      "text/plain": [
       "Renderer(camera=PerspectiveCamera(children=(DirectionalLight(color='white', intensity=0.6, position=(0.0, 0.0,…"
      ]
     },
     "metadata": {},
     "output_type": "display_data"
    }
   ],
   "source": [
    "def subdivision(V, F, times=1): # times: number of subdivision operations\n",
    "    # add new vertices\n",
    "    M  = igl.barycenter(V, F)\n",
    "    nV = np.concatenate((V, M), axis=0)\n",
    "    # get new faces\n",
    "    nF = np.zeros((3*len(F), 3))\n",
    "    for i, (x, y, z) in enumerate(F):\n",
    "        nF[3*i]   = np.array([x, y, i+len(V)])\n",
    "        nF[3*i+1] = np.array([y, z, i+len(V)])\n",
    "        nF[3*i+2] = np.array([z, x, i+len(V)])\n",
    "    # move old vertices to new positions\n",
    "    adj_list = igl.adjacency_list(F)\n",
    "    for i in range(len(V)):\n",
    "        n = len(adj_list[i])\n",
    "        a_n = (4 - 2*np.cos(np.pi*2 / n)) / 9\n",
    "        sums = np.sum([V[x] for x in adj_list[i]], axis=0)\n",
    "        nV[i] = V[i]*(1-a_n) + a_n/n * sums     \n",
    "    nF = nF.astype(int)\n",
    "    # flip edges\n",
    "    TT, _ = igl.triangle_triangle_adjacency(nF)\n",
    "    for i in range(len(nF)):\n",
    "        for j in TT[i]:\n",
    "            if j <= i: # avoid duplicated operations\n",
    "                continue \n",
    "            adj_faces = {i, j}\n",
    "            diagonal = set(nF[i]).symmetric_difference(set(nF[j]))\n",
    "            \n",
    "            if any(k < len(V) for k in diagonal): # both should be new vertices\n",
    "                continue\n",
    "                \n",
    "            for f in adj_faces:\n",
    "                v = diagonal.difference(set(nF[f])).pop() # an endpoint of the original edge\n",
    "                nF[f] = np.array([v, nF[f, 1], nF[f, 2]])\n",
    "        \n",
    "    meshplot.plot(nV, nF, shading={\"wireframe\": True}) if times == 1 else subdivision(nV, nF, times-1)  \n",
    "\n",
    "subdivision(cube_v, cube_f, 5)\n",
    "# subdivision(bumpy_v, bumpy_f)\n",
    "# subdivision(coffeecup_v, coffeecup_f)\n",
    "# subdivision(sphere_v, sphere_f)\n",
    "# subdivision(bunny_v, bunny_f)\n",
    "# subdivision(car_v, car_f)"
   ]
  },
  {
   "cell_type": "code",
   "execution_count": null,
   "metadata": {},
   "outputs": [],
   "source": []
  }
 ],
 "metadata": {
  "kernelspec": {
   "display_name": "Python 3 (ipykernel)",
   "language": "python",
   "name": "python3"
  },
  "language_info": {
   "codemirror_mode": {
    "name": "ipython",
    "version": 3
   },
   "file_extension": ".py",
   "mimetype": "text/x-python",
   "name": "python",
   "nbconvert_exporter": "python",
   "pygments_lexer": "ipython3",
   "version": "3.8.10"
  }
 },
 "nbformat": 4,
 "nbformat_minor": 4
}
