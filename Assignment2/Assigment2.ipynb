{
 "cells": [
  {
   "cell_type": "code",
   "execution_count": null,
   "metadata": {
    "scrolled": true
   },
   "outputs": [],
   "source": [
    "import numpy as np\n",
    "import igl\n",
    "import meshplot as mp\n",
    "import sys\n",
    "\n",
    "# below are the variables can be changed\n",
    "wendlandRadius = 10\n",
    "polyDegree = 0 # polyDegree = 0, 1, or 2\n",
    "resolution = 30\n",
    "align = False # whether align the input vertices set using PCA\n",
    "pointSize = 8\n",
    "\n",
    "grid = None  # data structer used to accelerate neighbor calculations "
   ]
  },
  {
   "cell_type": "markdown",
   "metadata": {},
   "source": [
    "# Implementing a spatial index to accelerate neighbor calculations"
   ]
  },
  {
   "cell_type": "code",
   "execution_count": null,
   "metadata": {
    "scrolled": true
   },
   "outputs": [],
   "source": [
    "class Grid: # data structer used to accelerate neighbor calculations \n",
    "    def __init__(self, V, wendlandRadius):\n",
    "        bbox_min = np.min(V, axis=0)\n",
    "        bbox_max = np.max(V, axis=0)\n",
    "        bbox_diag = np.linalg.norm(bbox_max - bbox_min)\n",
    "        bbox_min -= 0.05 * bbox_diag\n",
    "        bbox_max += 0.05 * bbox_diag\n",
    "        delta = bbox_max - bbox_min\n",
    "        n_edges = delta // wendlandRadius + 1\n",
    "        n_edges = n_edges.astype(int)\n",
    "        nx, ny, nz = n_edges\n",
    "        cells = [[] for _ in range(nx*ny*nz)]\n",
    "        for i, v in enumerate(V):\n",
    "            x, y, z = (v - bbox_min) // wendlandRadius\n",
    "            cells[int(x + y*nx + z*nx*ny)].append(i)\n",
    "        self.n_edges = n_edges\n",
    "        self.bbox_min = bbox_min\n",
    "        self.cells = cells\n",
    "        self.length = wendlandRadius\n",
    "        \n",
    "    def update_cells(self, V):\n",
    "        nx, ny, nz = self.n_edges\n",
    "        cells = [[] for _ in range(nx*ny*nz)]\n",
    "        for i, v in enumerate(V):\n",
    "            x, y, z = (v - self.bbox_min) // self.length\n",
    "            cells[int(x + y*nx + z*nx*ny)].append(i)\n",
    "        self.cells = cells\n",
    "    \n",
    "    def __get_surroundings(self, p):\n",
    "        x, y, z = (p - self.bbox_min) // self.length\n",
    "        x, y ,z = int(x), int(y), int(z)\n",
    "        nx, ny, nz = self.n_edges\n",
    "        surroundings = []\n",
    "        for i in (x-1, x, x+1):\n",
    "            for j in (y-1, y, y+1):\n",
    "                for k in (z-1, z, z+1):\n",
    "                    if 0 <= i < nx and 0 <= j < ny and 0 <= k <nz:\n",
    "                        surroundings.extend(self.cells[i + j*nx + k*nx*ny])\n",
    "        return surroundings\n",
    "    \n",
    "    def find_closed_point(self, p, V):\n",
    "        surroundings = self.__get_surroundings(p)\n",
    "        return surroundings[np.argmin(np.array([np.linalg.norm(p-V[i]) for i in surroundings]))]  \n",
    "    \n",
    "    def closest_points(self, p, V, h):\n",
    "        surroundings = self.__get_surroundings(p)\n",
    "        return np.array([i for i in surroundings if np.linalg.norm(p - V[i]) < h])\n",
    "        "
   ]
  },
  {
   "cell_type": "code",
   "execution_count": null,
   "metadata": {
    "scrolled": true
   },
   "outputs": [],
   "source": [
    "# Utility function to generate a tet grid\n",
    "# n is a 3-tuple with the number of cell in every direction\n",
    "# mmin/mmax are the grid bounding box corners\n",
    "\n",
    "def tet_grid(n, mmin, mmax):\n",
    "    nx = n[0]\n",
    "    ny = n[1]\n",
    "    nz = n[2]\n",
    "    \n",
    "    delta = mmax-mmin\n",
    "    \n",
    "    deltax = delta[0]/(nx-1)\n",
    "    deltay = delta[1]/(ny-1)\n",
    "    deltaz = delta[2]/(nz-1)\n",
    "    \n",
    "    T = np.zeros(((nx-1)*(ny-1)*(nz-1)*6, 4), dtype=np.int64)\n",
    "    V = np.zeros((nx*ny*nz, 3))\n",
    "\n",
    "    mapping = -np.ones((nx, ny, nz), dtype=np.int64)\n",
    "\n",
    "\n",
    "    index = 0\n",
    "    for i in range(nx):\n",
    "        for j in range(ny):\n",
    "            for k in range(nz):\n",
    "                mapping[i, j, k] = index\n",
    "                V[index, :] = [i*deltax, j*deltay, k*deltaz]\n",
    "                index += 1\n",
    "    assert(index == V.shape[0])\n",
    "    \n",
    "    tets = np.array([\n",
    "        [0,1,3,4],\n",
    "        [5,2,6,7],\n",
    "        [4,1,5,3],\n",
    "        [4,3,7,5],\n",
    "        [3,1,5,2],\n",
    "        [2,3,7,5]\n",
    "    ])\n",
    "    \n",
    "    index = 0\n",
    "    for i in range(nx-1):\n",
    "        for j in range(ny-1):\n",
    "            for k in range(nz-1):\n",
    "                indices = [\n",
    "                    (i,   j,   k),\n",
    "                    (i+1, j,   k),\n",
    "                    (i+1, j+1, k),\n",
    "                    (i,   j+1, k),\n",
    "\n",
    "                    (i,   j,   k+1),\n",
    "                    (i+1, j,   k+1),\n",
    "                    (i+1, j+1, k+1),\n",
    "                    (i,   j+1, k+1),\n",
    "                ]\n",
    "                \n",
    "                for t in range(tets.shape[0]):\n",
    "                    tmp = [mapping[indices[ii]] for ii in tets[t, :]]\n",
    "                    T[index, :]=tmp\n",
    "                    index += 1\n",
    "                    \n",
    "    assert(index == T.shape[0])\n",
    "    \n",
    "    V += mmin\n",
    "    return V, T"
   ]
  },
  {
   "cell_type": "markdown",
   "metadata": {},
   "source": [
    "# Using a non-axis-aligned grid"
   ]
  },
  {
   "cell_type": "code",
   "execution_count": null,
   "metadata": {},
   "outputs": [],
   "source": [
    "def rotation_matrix_from_vectors(origin, target):\n",
    "    v = np.cross(origin, target)\n",
    "    c = np.dot(origin, target)\n",
    "    s = np.linalg.norm(v)\n",
    "    kmat = np.array([[0, -v[2], v[1]], [v[2], 0, -v[0]], [-v[1], v[0], 0]])\n",
    "    rotation_matrix = np.eye(3) + kmat + kmat.dot(kmat) * ((1 - c) / (s ** 2))\n",
    "    return rotation_matrix"
   ]
  },
  {
   "cell_type": "code",
   "execution_count": null,
   "metadata": {},
   "outputs": [],
   "source": [
    "def align_grid(V):\n",
    "    Y = np.transpose(np.matrix(V - np.mean(V, axis=0)))\n",
    "    cov = np.cov(Y)\n",
    "    eigen_values, eigen_vectors= np.linalg.eig(cov)\n",
    "    print(Y.shape, cov.shape, eigen_vectors)\n",
    "    n1 = eigen_vectors[:, np.argmax(np.abs(eigen_values))]\n",
    "    n2 = np.array([0., 0, 0])\n",
    "    n2[np.argmax(np.abs(eigen_values))] = 1.0\n",
    "    R = rotation_matrix_from_vectors(n1, n2)\n",
    "    nV = V.copy()\n",
    "    for i in range(len(V)):\n",
    "        row = V[i]\n",
    "        row_T = row.transpose()\n",
    "        nV[i] = np.matmul(R, row_T)\n",
    "    return nV    "
   ]
  },
  {
   "cell_type": "markdown",
   "metadata": {},
   "source": [
    "# Reading point cloud"
   ]
  },
  {
   "cell_type": "code",
   "execution_count": null,
   "metadata": {},
   "outputs": [],
   "source": [
    "def setting_up_constraints(file, plot=False):\n",
    "    V, F = igl.read_triangle_mesh(file)\n",
    "    V /= 10\n",
    "    \n",
    "    global wendlandRadius\n",
    "    global grid\n",
    "    global align\n",
    "    \n",
    "    if align:\n",
    "        V = align_grid(V)\n",
    "        \n",
    "    grid = Grid(V, wendlandRadius)\n",
    "    \n",
    "    Ni = igl.per_vertex_normals(V, F)\n",
    "    eps = 0.01 * igl.bounding_box_diagonal(V)\n",
    "    while np.linalg.norm(eps) >= wendlandRadius:\n",
    "        eps /= 2\n",
    "    V_plus, V_minus = np.zeros(V.shape), np.zeros(V.shape)\n",
    "    constrained_values_plus, constrained_values_minus = np.zeros(V.shape[0]), np.zeros(V.shape[0])\n",
    "    for i, pi in enumerate(V):\n",
    "        ni_norm = Ni[i] / np.linalg.norm(Ni[i])\n",
    "        while grid.find_closed_point(pi + eps*ni_norm, V) != i or grid.find_closed_point(pi - eps*ni_norm, V) != i:\n",
    "            eps /= 2\n",
    "        constrained_values_plus[i], constrained_values_minus[i] = eps, -eps\n",
    "        pi_plus, pi_minus = pi + eps*ni_norm, pi - eps*ni_norm\n",
    "        V_plus[i], V_minus[i] = pi_plus, pi_minus\n",
    "    \n",
    "    if plot:\n",
    "        p = mp.plot(V, shading={\"point_size\": pointSize, \"point_color\": \"blue\"})\n",
    "        p.add_points(V_plus , shading={\"point_size\": pointSize, \"point_color\": \"red\"})\n",
    "        p.add_points(V_minus, shading={\"point_size\": pointSize, \"point_color\": \"green\"})\n",
    "        return\n",
    "    \n",
    "    constrained_points = np.concatenate((V, V_plus, V_minus))\n",
    "    constrained_values = np.concatenate((np.zeros(V.shape[0]), constrained_values_plus, constrained_values_minus))\n",
    "\n",
    "    return constrained_points, constrained_values"
   ]
  },
  {
   "cell_type": "code",
   "execution_count": null,
   "metadata": {},
   "outputs": [],
   "source": [
    "# plot of cat.off\n",
    "wendlandRadius = 10\n",
    "pointSize = 8\n",
    "align = False\n",
    "setting_up_constraints(\"data/cat.off\", plot=True)"
   ]
  },
  {
   "cell_type": "code",
   "execution_count": null,
   "metadata": {},
   "outputs": [],
   "source": [
    "# plot of luigi.off\n",
    "wendlandRadius = 0.5\n",
    "pointSize = 0.5\n",
    "align = False\n",
    "setting_up_constraints(\"data/luigi.off\", plot=True)"
   ]
  },
  {
   "cell_type": "markdown",
   "metadata": {},
   "source": [
    "# MLS function"
   ]
  },
  {
   "cell_type": "code",
   "execution_count": null,
   "metadata": {
    "scrolled": true
   },
   "outputs": [],
   "source": [
    "def get_base(polyDegree, p=np.array([1., 1, 1])): # polyDegree = 0, 1, 2\n",
    "    x, y, z = p\n",
    "    if polyDegree == 0:\n",
    "        return np.array([[1.]]), 1\n",
    "    elif polyDegree == 1:\n",
    "        return np.array([[1., x, y, z]]), 4\n",
    "    elif polyDegree == 2:\n",
    "        return np.array([[1., x, y, z, x*x, y*y, z*z, x*y, y*z, z*x]]), 10\n",
    "    sys.exit('polyDegree should be 0, 1, or 2')\n",
    "    "
   ]
  },
  {
   "cell_type": "code",
   "execution_count": null,
   "metadata": {
    "scrolled": true
   },
   "outputs": [],
   "source": [
    "def create_grid(file):\n",
    "    global wendlandRadius\n",
    "    global polyDegree\n",
    "    global resolution\n",
    "\n",
    "    constrained_points, constrained_values = setting_up_constraints(file)\n",
    "    \n",
    "    global grid\n",
    "    grid.update_cells(constrained_points)\n",
    "    \n",
    "    bbox_min = np.min(constrained_points, axis=0)\n",
    "    bbox_max = np.max(constrained_points, axis=0)\n",
    "    bbox_diag = np.linalg.norm(bbox_max - bbox_min)\n",
    "\n",
    "    x, T = tet_grid((resolution, resolution, resolution), bbox_min - 0.05 * bbox_diag, bbox_max + 0.05 * bbox_diag)\n",
    "    \n",
    "    fx = np.zeros(x.shape[0])\n",
    "\n",
    "    for i, xi in enumerate(x):\n",
    "        neighbors = grid.closest_points(xi, constrained_points, wendlandRadius)\n",
    "        if neighbors.size < 2 * get_base(polyDegree)[1]:\n",
    "            fx[i] = 100\n",
    "            continue\n",
    "        W = np.zeros((neighbors.size, neighbors.size))\n",
    "        B = np.zeros((neighbors.size, get_base(polyDegree)[1]))\n",
    "        d = np.zeros((neighbors.size, 1))\n",
    "        base, _ = get_base(polyDegree, xi)\n",
    "        \n",
    "        for j in range(neighbors.size):\n",
    "            d[j, 0] = constrained_values[neighbors[j]]\n",
    "            vertex = constrained_points[neighbors[j]]\n",
    "            r = np.linalg.norm(xi - vertex)\n",
    "            wendland_weight = np.power((1 - (r / wendlandRadius)), 4) * ((4 * r / wendlandRadius) + 1)\n",
    "            W[j,j] = wendland_weight\n",
    "            B[j]   = get_base(polyDegree, vertex)[0]\n",
    " \n",
    "        B_T = np.transpose(B)\n",
    "        M = np.matmul(W, B)\n",
    "        N = np.matmul(W, d)\n",
    "        M = np.matmul(B_T, M)\n",
    "        N = np.matmul(B_T, N)\n",
    "        \n",
    "        try:\n",
    "            a = np.linalg.solve(M, N)\n",
    "        except:\n",
    "            continue\n",
    "        \n",
    "        fx[i] = np.dot(base, a)\n",
    "    return x, T, fx"
   ]
  },
  {
   "cell_type": "code",
   "execution_count": null,
   "metadata": {
    "scrolled": true
   },
   "outputs": [],
   "source": [
    "def plot_grid(file):\n",
    "    global pointSize\n",
    "    \n",
    "    x, _, fx = create_grid(file)\n",
    "    C = np.zeros((fx.size, 3))\n",
    "    C[fx >= 0] = np.array([255., 0  , 0])\n",
    "    C[fx <  0] = np.array([255., 255, 0])\n",
    "    mp.plot(x, c=C, shading={\"point_size\": pointSize, \"background\": \"#0000FF\"})"
   ]
  },
  {
   "cell_type": "code",
   "execution_count": null,
   "metadata": {
    "scrolled": true
   },
   "outputs": [],
   "source": [
    "# cat.off\n",
    "wendlandRadius = 10\n",
    "polyDegree = 1\n",
    "resolution = 30\n",
    "grid = None  \n",
    "align = False\n",
    "pointSize = 8\n",
    "plot_grid(\"data/cat.off\")"
   ]
  },
  {
   "cell_type": "code",
   "execution_count": null,
   "metadata": {
    "scrolled": true
   },
   "outputs": [],
   "source": [
    "# luigi.off, not using a non-axis-aligned grid\n",
    "wendlandRadius = 0.5\n",
    "polyDegree = 1\n",
    "resolution = 30\n",
    "grid = None  \n",
    "align = False\n",
    "pointSize = 1\n",
    "plot_grid(\"data/luigi.off\")"
   ]
  },
  {
   "cell_type": "code",
   "execution_count": null,
   "metadata": {
    "scrolled": true
   },
   "outputs": [],
   "source": [
    "# luigi.off, using a non-axis-aligned grid\n",
    "wendlandRadius = 0.5\n",
    "polyDegree = 1\n",
    "resolution = 30\n",
    "grid = None  \n",
    "align = True\n",
    "pointSize = 1\n",
    "plot_grid(\"data/luigi.off\")"
   ]
  },
  {
   "cell_type": "markdown",
   "metadata": {},
   "source": [
    "# Marching to extract surface"
   ]
  },
  {
   "cell_type": "code",
   "execution_count": null,
   "metadata": {
    "scrolled": true
   },
   "outputs": [],
   "source": [
    "def reconstruction(file):\n",
    "    x, T, fx = create_grid(file)\n",
    "    sv, sf, _, _ = igl.marching_tets(x, T, fx, 0)\n",
    "    components = igl.face_components(sf)\n",
    "    majority = np.argmax(np.bincount(components))\n",
    "\n",
    "    for i in range(components.size):\n",
    "        if components[i] != majority:\n",
    "            sf[i] = np.array([0, 0, 0])\n",
    "        \n",
    "    sf = sf[~np.all(sf == 0, axis=1)]\n",
    "\n",
    "    mp.plot(sv, sf, shading={\"wireframe\": True})"
   ]
  },
  {
   "cell_type": "code",
   "execution_count": null,
   "metadata": {
    "scrolled": true
   },
   "outputs": [],
   "source": [
    "# reconstruction of cat.off\n",
    "# change the variables below\n",
    "wendlandRadius = 10\n",
    "polyDegree = 0\n",
    "resolution = 30\n",
    "grid = None  \n",
    "align = True\n",
    "pointSize = 8\n",
    "reconstruction(\"data/cat.off\")"
   ]
  },
  {
   "cell_type": "code",
   "execution_count": null,
   "metadata": {
    "scrolled": true
   },
   "outputs": [],
   "source": [
    "# reconstruction of luigi.off\n",
    "# change the variables below\n",
    "wendlandRadius = 0.5\n",
    "polyDegree = 1\n",
    "resolution = 30\n",
    "grid = None  \n",
    "align = True\n",
    "pointSize = 1\n",
    "reconstruction(\"data/luigi.off\")"
   ]
  },
  {
   "cell_type": "markdown",
   "metadata": {},
   "source": [
    "# Optional task"
   ]
  },
  {
   "cell_type": "code",
   "execution_count": null,
   "metadata": {
    "scrolled": true
   },
   "outputs": [],
   "source": [
    "# (3pt) In Interpolating and Approximating Implicit Surfaces from \n",
    "# Polygon Soup normals are used differently to define the implicit surface. \n",
    "# Instead of generating new sample points offset in the positive and \n",
    "# negative normal directions, the paper uses the normal to define a linear function \n",
    "# for each point cloud point: the signed distance to the tangent plane at the point.\n",
    "# Then the values of these linear functions are interpolated by MLS. \n",
    "# Implement Section 3.3 of the paper and append to your report a description of the method and how it compares \n",
    "# to the original point-value-based approach. Estimate a normal for results obtained with single dataset."
   ]
  },
  {
   "cell_type": "code",
   "execution_count": null,
   "metadata": {
    "scrolled": true
   },
   "outputs": [],
   "source": [
    "def create_grid_normals(file):\n",
    "    V, F = igl.read_triangle_mesh(file)\n",
    "    V /= 10\n",
    "\n",
    "    global wendlandRadius\n",
    "    global align\n",
    "    \n",
    "    if align:\n",
    "        V = align_grid(V)\n",
    "    Ns = igl.per_vertex_normals(V, F)\n",
    "    \n",
    "    grid = Grid(V, wendlandRadius)\n",
    "    \n",
    "    bbox_min = np.min(V, axis=0)\n",
    "    bbox_max = np.max(V, axis=0)\n",
    "    bbox_diag = np.linalg.norm(bbox_max - bbox_min)\n",
    "    \n",
    "    x, T = tet_grid((resolution, resolution, resolution), bbox_min - 0.05 * bbox_diag, bbox_max + 0.05 * bbox_diag)\n",
    "    fx = np.zeros(x.shape[0])\n",
    "    \n",
    "    for i, xi in enumerate(x):\n",
    "        neighbors = grid.closest_points(xi, V, wendlandRadius)\n",
    "        if neighbors.size < 2 * get_base(polyDegree)[1]:\n",
    "            fx[i] = 100\n",
    "            continue\n",
    "        W = np.zeros((neighbors.size, neighbors.size))\n",
    "        B = np.zeros((neighbors.size, get_base(polyDegree)[1]))\n",
    "        d = np.zeros((neighbors.size, 1))\n",
    "        base, _ = get_base(polyDegree, xi)\n",
    "        \n",
    "        for j in range(neighbors.size):\n",
    "            vertex = V[neighbors[j]]\n",
    "            r = np.linalg.norm(xi - vertex)\n",
    "            wendland_weight = np.power((1 - (r / wendlandRadius)), 4) * ((4 * r / wendlandRadius) + 1)\n",
    "            W[j,j] = wendland_weight\n",
    "            B[j]   = get_base(polyDegree, vertex)[0]\n",
    "            d[j, 0] = np.dot(xi - vertex, Ns[neighbors[j]])\n",
    "        \n",
    "        B_T = np.transpose(B)\n",
    "        M = np.matmul(W, B)\n",
    "        N = np.matmul(W, d)\n",
    "        M = np.matmul(B_T, M)\n",
    "        N = np.matmul(B_T, N)\n",
    "        \n",
    "        try:\n",
    "            a = np.linalg.solve(M, N)\n",
    "        except:\n",
    "            continue\n",
    "        \n",
    "        fx[i] = np.dot(base, a)\n",
    "    return x, T, fx"
   ]
  },
  {
   "cell_type": "code",
   "execution_count": null,
   "metadata": {
    "scrolled": true
   },
   "outputs": [],
   "source": [
    "def plot_grid2(file):\n",
    "    global pointSize\n",
    "    \n",
    "    x, _, fx = create_grid_normals(file)\n",
    "    C = np.zeros((fx.size, 3))\n",
    "    C[fx >= 0] = np.array([255., 0  , 0])\n",
    "    C[fx <  0] = np.array([255., 255, 0])\n",
    "    mp.plot(x, c=C, shading={\"point_size\": pointSize, \"background\": \"#0000FF\"})"
   ]
  },
  {
   "cell_type": "code",
   "execution_count": null,
   "metadata": {
    "scrolled": true
   },
   "outputs": [],
   "source": [
    "def reconstruction2(file):\n",
    "    x, T, fx = create_grid_normals(file)\n",
    "    sv, sf, _, _ = igl.marching_tets(x, T, fx, 0)\n",
    "    components = igl.face_components(sf)\n",
    "    majority = np.argmax(np.bincount(components))\n",
    "\n",
    "    for i in range(components.size):\n",
    "        if components[i] != majority:\n",
    "            sf[i] = np.array([0, 0, 0])\n",
    "        \n",
    "    sf = sf[~np.all(sf == 0, axis=1)]\n",
    "\n",
    "    mp.plot(sv, sf, shading={\"wireframe\": True})"
   ]
  },
  {
   "cell_type": "code",
   "execution_count": 19,
   "metadata": {
    "scrolled": true
   },
   "outputs": [
    {
     "data": {
      "application/vnd.jupyter.widget-view+json": {
       "model_id": "a61f9ba2591f42aaab9f5d30c1f641fb",
       "version_major": 2,
       "version_minor": 0
      },
      "text/plain": [
       "Renderer(camera=PerspectiveCamera(children=(DirectionalLight(color='white', intensity=0.6, position=(5.0, -23.…"
      ]
     },
     "metadata": {},
     "output_type": "display_data"
    }
   ],
   "source": [
    "# cat.off, grid plotting\n",
    "wendlandRadius = 15\n",
    "polyDegree = 0\n",
    "resolution = 30\n",
    "grid = None  \n",
    "align = False\n",
    "pointSize = 8\n",
    "plot_grid2(\"data/cat.off\")"
   ]
  },
  {
   "cell_type": "code",
   "execution_count": 20,
   "metadata": {
    "scrolled": true
   },
   "outputs": [
    {
     "data": {
      "application/vnd.jupyter.widget-view+json": {
       "model_id": "62804dbfc61742c885aedb27011328bc",
       "version_major": 2,
       "version_minor": 0
      },
      "text/plain": [
       "Renderer(camera=PerspectiveCamera(children=(DirectionalLight(color='white', intensity=0.6, position=(5.0248079…"
      ]
     },
     "metadata": {},
     "output_type": "display_data"
    }
   ],
   "source": [
    "# cat.off, reconstruction\n",
    "wendlandRadius = 15\n",
    "polyDegree = 0\n",
    "resolution = 30\n",
    "grid = None  \n",
    "align = False\n",
    "pointSize = 8\n",
    "reconstruction2(\"data/cat.off\")"
   ]
  },
  {
   "cell_type": "code",
   "execution_count": null,
   "metadata": {
    "scrolled": true
   },
   "outputs": [],
   "source": [
    "# luigi.off, grid plotting\n",
    "wendlandRadius = 0.5\n",
    "polyDegree = 1\n",
    "resolution = 30\n",
    "grid = None  \n",
    "align = True\n",
    "pointSize = 1\n",
    "plot_grid2(\"data/luigi.off\")"
   ]
  },
  {
   "cell_type": "code",
   "execution_count": null,
   "metadata": {
    "scrolled": true
   },
   "outputs": [],
   "source": [
    "# luigi.off, reconstruction\n",
    "wendlandRadius = 0.5\n",
    "polyDegree = 0\n",
    "resolution = 30\n",
    "grid = None  \n",
    "align = True\n",
    "pointSize = 1\n",
    "reconstruction2(\"data/luigi.off\")"
   ]
  },
  {
   "cell_type": "markdown",
   "metadata": {},
   "source": [
    "a = np.array([[-3., -3., -3.],\n",
    "       [ 0.,  0.,  0.],\n",
    "       [ 3.,  3.,  3.]])\n",
    "np.cov(a)"
   ]
  },
  {
   "cell_type": "code",
   "execution_count": null,
   "metadata": {},
   "outputs": [],
   "source": []
  },
  {
   "cell_type": "code",
   "execution_count": null,
   "metadata": {},
   "outputs": [],
   "source": []
  },
  {
   "cell_type": "code",
   "execution_count": null,
   "metadata": {},
   "outputs": [],
   "source": []
  }
 ],
 "metadata": {
  "kernelspec": {
   "display_name": "Python 3 (ipykernel)",
   "language": "python",
   "name": "python3"
  },
  "language_info": {
   "codemirror_mode": {
    "name": "ipython",
    "version": 3
   },
   "file_extension": ".py",
   "mimetype": "text/x-python",
   "name": "python",
   "nbconvert_exporter": "python",
   "pygments_lexer": "ipython3",
   "version": "3.8.10"
  }
 },
 "nbformat": 4,
 "nbformat_minor": 4
}
