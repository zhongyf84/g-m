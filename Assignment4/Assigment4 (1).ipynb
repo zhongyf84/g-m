{
 "cells": [
  {
   "cell_type": "markdown",
   "metadata": {},
   "source": [
    "# Assigment 4"
   ]
  },
  {
   "cell_type": "code",
   "execution_count": null,
   "metadata": {},
   "outputs": [],
   "source": [
    "import math\n",
    "import numpy as np\n",
    "import scipy.sparse as sp\n",
    "\n",
    "import igl\n",
    "import meshplot as mp\n",
    "\n",
    "from math import sqrt"
   ]
  },
  {
   "cell_type": "code",
   "execution_count": null,
   "metadata": {},
   "outputs": [],
   "source": [
    "v, f = igl.read_triangle_mesh(\"data/irr4-cyl2.off\")\n",
    "tt, _ = igl.triangle_triangle_adjacency(f)\n",
    "\n",
    "c = np.loadtxt(\"data/irr4-cyl2.constraints\")\n",
    "cf = c[:, 0].astype(np.int64)\n",
    "c = c[:, 1:]"
   ]
  },
  {
   "cell_type": "code",
   "execution_count": null,
   "metadata": {},
   "outputs": [],
   "source": [
    "def align_field(V, F, TT, soft_id, soft_value, llambda):\n",
    "    assert(soft_id[0] > 0)\n",
    "    assert(soft_id.shape[0] == soft_value.shape[0])\n",
    "\n",
    "    \n",
    "    # Edges\n",
    "    e1 = V[F[:, 1], :] - V[F[:, 0], :]\n",
    "    e2 = V[F[:, 2], :] - V[F[:, 0], :]\n",
    "\n",
    "    # Compute the local reference systems for each face, T1, T2\n",
    "    T1 = e1 / np.linalg.norm(e1, axis=1)[:,None]\n",
    "        \n",
    "    T2 =  np.cross(T1, np.cross(T1, e2))\n",
    "    T2 /= np.linalg.norm(T2, axis=1)[:,None]\n",
    "    \n",
    "    # Arrays for the entries of the matrix\n",
    "    data = []\n",
    "    ii = []\n",
    "    jj = []\n",
    "    \n",
    "    index = 0\n",
    "    for f in range(F.shape[0]):\n",
    "        for ei in range(3): # Loop over the edges\n",
    "            \n",
    "            # Look up the opposite face\n",
    "            g = TT[f, ei]\n",
    "            \n",
    "            # If it is a boundary edge, it does not contribute to the energy\n",
    "            # or avoid to count every edge twice\n",
    "            if g == -1 or f > g:\n",
    "                continue\n",
    "                \n",
    "            # Compute the complex representation of the common edge\n",
    "            e  = V[F[f, (ei+1)%3], :] - V[F[f, ei], :]\n",
    "            \n",
    "            vef = np.array([np.dot(e, T1[f, :]), np.dot(e, T2[f, :])])\n",
    "            vef /= np.linalg.norm(vef)\n",
    "            ef = (vef[0] + vef[1]*1j).conjugate()\n",
    "            \n",
    "            veg = np.array([np.dot(e, T1[g, :]), np.dot(e, T2[g, :])])\n",
    "            veg /= np.linalg.norm(veg)\n",
    "            eg = (veg[0] + veg[1]*1j).conjugate()\n",
    "            \n",
    "            \n",
    "            # Add the term conj(f)^n*ui - conj(g)^n*uj to the energy matrix\n",
    "            data.append(ef);  ii.append(index); jj.append(f)\n",
    "            data.append(-eg); ii.append(index); jj.append(g)\n",
    "\n",
    "            index += 1\n",
    "            \n",
    "    sqrtl = sqrt(llambda)\n",
    "    \n",
    "    # Convert the constraints into the complex polynomial coefficients and add them as soft constraints\n",
    "    \n",
    "    # Rhs of the system\n",
    "    b = np.zeros(index + soft_id.shape[0], dtype=np.complex128)\n",
    "    \n",
    "    for ci in range(soft_id.shape[0]):\n",
    "        f = soft_id[ci]\n",
    "        v = soft_value[ci, :]\n",
    "        \n",
    "        # Project on the local frame\n",
    "        c = np.dot(v, T1[f, :]) + np.dot(v, T2[f, :])*1j\n",
    "        \n",
    "        data.append(sqrtl); ii.append(index); jj.append(f)\n",
    "        b[index] = c * sqrtl\n",
    "        \n",
    "        index += 1\n",
    "    \n",
    "    assert(b.shape[0] == index)\n",
    "    \n",
    "    \n",
    "    # Solve the linear system\n",
    "    A = sp.coo_matrix((data, (ii, jj)), shape=(index, F.shape[0])).asformat(\"csr\")\n",
    "    u = sp.linalg.spsolve(A.H @ A, A.H @ b)\n",
    "    R = T1 * u.real[:,None] + T2 * u.imag[:,None]\n",
    "\n",
    "    return R"
   ]
  },
  {
   "cell_type": "code",
   "execution_count": null,
   "metadata": {},
   "outputs": [],
   "source": [
    "def plot_mesh_field(V, F, R, constrain_faces):\n",
    "    # Highlight in red the constrained faces\n",
    "    col = np.ones_like(f)\n",
    "    col[constrain_faces, 1:] = 0\n",
    "    \n",
    "    # Scaling of the representative vectors\n",
    "    avg = igl.avg_edge_length(V, F)/2\n",
    "\n",
    "    #Plot from face barycenters\n",
    "    B = igl.barycenter(V, F)\n",
    "\n",
    "    p = mp.plot(V, F, c=col, shading={\"wireframe\": True})\n",
    "    p.add_lines(B, B + R * avg)\n",
    "    \n",
    "    return p"
   ]
  },
  {
   "cell_type": "code",
   "execution_count": null,
   "metadata": {},
   "outputs": [],
   "source": [
    "R = align_field(v, f, tt, cf, c, 1e6)\n",
    "plot_mesh_field(v, f, R, cf)"
   ]
  },
  {
   "cell_type": "markdown",
   "metadata": {},
   "source": [
    "## 1. Tangent vector fields for scalar field design [5pt]"
   ]
  },
  {
   "cell_type": "code",
   "execution_count": null,
   "metadata": {},
   "outputs": [],
   "source": [
    "def vector_field_design(V, F, TT, hard_id, hard_value):\n",
    "\n",
    "    # Edges\n",
    "    e1 = V[F[:, 1], :] - V[F[:, 0], :]\n",
    "    e2 = V[F[:, 2], :] - V[F[:, 0], :]\n",
    "\n",
    "    # Compute the local reference systems for each face, T1, T2\n",
    "    T1 = e1 / np.linalg.norm(e1, axis=1)[:,None]\n",
    "        \n",
    "    T2 =  np.cross(T1, np.cross(T1, e2))\n",
    "    T2 /= np.linalg.norm(T2, axis=1)[:,None]\n",
    "    \n",
    "    # Arrays for the entries of the matrix\n",
    "    data = []\n",
    "    ii = []\n",
    "    jj = []\n",
    "    m, n = {}, {} # bijective\n",
    "    index = 0\n",
    "    \n",
    "    for f in range(F.shape[0]):\n",
    "        for ei in range(3): # Loop over the edges\n",
    "            \n",
    "            # Look up the opposite face\n",
    "            g = TT[f, ei]\n",
    "            \n",
    "            # If it is a boundary edge, it does not contribute to the energy\n",
    "            # or avoid to count every edge twice\n",
    "            if g == -1 or f > g:\n",
    "                continue\n",
    "                \n",
    "            # Compute the complex representation of the common edge\n",
    "            e  = V[F[f, (ei+1)%3], :] - V[F[f, ei], :]\n",
    "            \n",
    "            vef = np.array([np.dot(e, T1[f, :]), np.dot(e, T2[f, :])])\n",
    "            vef /= np.linalg.norm(vef)\n",
    "            ef = vef[0] + vef[1]*1j\n",
    "            ef_conj = ef.conjugate()\n",
    "            \n",
    "            veg = np.array([np.dot(e, T1[g, :]), np.dot(e, T2[g, :])])\n",
    "            veg /= np.linalg.norm(veg)\n",
    "            eg = veg[0] + veg[1]*1j\n",
    "            eg_conj = eg.conjugate()\n",
    "            \n",
    "            data.append(1);  ii.append(f); jj.append(f)\n",
    "            data.append(1); ii.append(g); jj.append(g)\n",
    "            data.append(-ef * eg_conj);  ii.append(f); jj.append(g)\n",
    "            data.append(-ef_conj * eg); ii.append(g); jj.append(f)\n",
    "        if f in hard_id:\n",
    "            continue\n",
    "        m[index], n[f] = f, index\n",
    "        index += 1\n",
    "            \n",
    "    Q = sp.coo_matrix((data, (ii, jj)), shape=(F.shape[0], F.shape[0])).asformat(\"csr\")\n",
    "    \n",
    "    u = np.zeros(F.shape[0], dtype=np.complex128)\n",
    "    b  = np.zeros((index, 1), dtype=np.complex128)\n",
    "    data, ii, jj = [], [], []\n",
    "    for i in range(index):\n",
    "        non_zero = Q.getrow(m[i]).nonzero()[1]\n",
    "        for j in non_zero:\n",
    "            if j not in hard_id:\n",
    "                data.append(Q[m[i], j]);  ii.append(i); jj.append(n[j])\n",
    "        for ci in range(hard_id.shape[0]):\n",
    "            f, v = hard_id[ci], hard_value[ci, :]\n",
    "            c = np.dot(v, T1[f, :]) + np.dot(v, T2[f, :])*1j\n",
    "            u[f] = c\n",
    "            b[i] -= c * Q[m[i], f]\n",
    "    \n",
    "    A = sp.coo_matrix((data, (ii, jj)), shape=(index, index)).asformat(\"csr\")\n",
    "    u1 = sp.linalg.spsolve(A, b)\n",
    "    \n",
    "    for i in range(index):\n",
    "        u[m[i]] = u1[i]\n",
    "    \n",
    "    R = T1 * u.real[:,None] + T2 * u.imag[:,None]\n",
    "    return R"
   ]
  },
  {
   "cell_type": "code",
   "execution_count": null,
   "metadata": {},
   "outputs": [],
   "source": [
    "v, f = igl.read_triangle_mesh(\"data/irr4-cyl2.off\")\n",
    "tt, _ = igl.triangle_triangle_adjacency(f)\n",
    "\n",
    "c = np.loadtxt(\"data/irr4-cyl2.constraints\")\n",
    "cf = c[:, 0].astype(np.int64)\n",
    "c = c[:, 1:]\n",
    "\n",
    "R = vector_field_design(v, f, tt, cf, c)"
   ]
  },
  {
   "cell_type": "code",
   "execution_count": null,
   "metadata": {},
   "outputs": [],
   "source": [
    "# Visualization of the constraints\n",
    "col = np.ones_like(f)\n",
    "col[cf, 1:] = 0\n",
    "avg = igl.avg_edge_length(v, f)/2\n",
    "B = igl.barycenter(v, f)\n",
    "p = mp.plot(v, f, c=col, shading={\"wireframe\": True})\n",
    "for i in range(cf.size):\n",
    "    p.add_lines(B[cf[i]], B[cf[i]] + c[i] * avg)"
   ]
  },
  {
   "cell_type": "code",
   "execution_count": null,
   "metadata": {},
   "outputs": [],
   "source": [
    "# Visualization of the interpolated field\n",
    "plot_mesh_field(v, f, R, cf)"
   ]
  },
  {
   "cell_type": "code",
   "execution_count": null,
   "metadata": {},
   "outputs": [],
   "source": [
    "# Print of the interpolated field\n",
    "# print(R)"
   ]
  },
  {
   "cell_type": "markdown",
   "metadata": {},
   "source": [
    "## 2. Reconstructing a scalar field from a vector field [10pt]"
   ]
  },
  {
   "cell_type": "code",
   "execution_count": null,
   "metadata": {},
   "outputs": [],
   "source": [
    "def scalar_field(v, f, R):\n",
    "    W = igl.doublearea(v, f) / 2\n",
    "    G = igl.grad(v, f)\n",
    "    \n",
    "    W_m = sp.diags(np.concatenate((W, W, W)))\n",
    "    K = G.transpose().dot(W_m).dot(G) # K_T = K\n",
    "    u_t = np.concatenate((R[:,0], R[:,1], R[:,2]))\n",
    "    b = -2 * G.transpose().dot(W_m).dot(u_t)\n",
    "    # set s[0] to be 0\n",
    "    A_ff = 2 * K[1:, 1:]\n",
    "    s1 = sp.linalg.spsolve(A_ff, -b[1:])\n",
    "    s = np.concatenate((np.array([0]), s1))\n",
    "    print(s.shape)\n",
    "    gradient = G.dot(s).reshape((3, f.shape[0])).transpose()\n",
    "    return s.reshape(s.size, 1), gradient"
   ]
  },
  {
   "cell_type": "code",
   "execution_count": null,
   "metadata": {},
   "outputs": [],
   "source": [
    "v, f = igl.read_triangle_mesh(\"data/irr4-cyl2.off\")\n",
    "tt, _ = igl.triangle_triangle_adjacency(f)\n",
    "\n",
    "c = np.loadtxt(\"data/irr4-cyl2.constraints\")\n",
    "cf = c[:, 0].astype(np.int64)\n",
    "c = c[:, 1:]\n",
    "\n",
    "R = vector_field_design(v, f, tt, cf, c)\n",
    "\n",
    "s, gradient = scalar_field(v, f, R)\n",
    "\n",
    "avg = igl.avg_edge_length(v, f)/2\n",
    "B = igl.barycenter(v, f)"
   ]
  },
  {
   "cell_type": "code",
   "execution_count": null,
   "metadata": {},
   "outputs": [],
   "source": [
    "# Visualization of the computed scalar function, its gradient and its error\n",
    "# orange: the original vector field\n",
    "# blue: the new gradient vectors\n",
    "# red: the poisson reconstruction error\n",
    "p = mp.plot(v, f, c=s, shading={\"wireframe\": False})\n",
    "p.add_lines(B, B + R * avg, shading={\"line_color\": \"orange\"})\n",
    "p.add_lines(B, B + gradient * avg, shading={\"line_color\": \"blue\"})\n",
    "p.add_lines(B + R * avg, B + gradient * avg, shading={\"line_color\": \"red\"})"
   ]
  },
  {
   "cell_type": "code",
   "execution_count": null,
   "metadata": {},
   "outputs": [],
   "source": [
    "# Print of the reconstructed scalar function\n",
    "# print(s)"
   ]
  },
  {
   "cell_type": "markdown",
   "metadata": {},
   "source": [
    "## 3. Harmonic and LSCM Parameterizations [5pt]"
   ]
  },
  {
   "cell_type": "markdown",
   "metadata": {},
   "source": [
    "### Harmonic Parameterizations"
   ]
  },
  {
   "cell_type": "code",
   "execution_count": null,
   "metadata": {},
   "outputs": [],
   "source": [
    "v, f = igl.read_triangle_mesh(\"data/camel_head.off\")\n",
    "bnd = igl.boundary_loop(f)\n",
    "bnd_uv = igl.map_vertices_to_circle(v, bnd)\n",
    "uv = igl.harmonic_weights(v, f, bnd, bnd_uv, 1)\n",
    "v_p = np.hstack([uv, np.zeros((uv.shape[0],1))])\n",
    "\n",
    "G = igl.grad(v, f)\n",
    "g = G.dot(uv)\n",
    "gradient_u = g[:,0].reshape((3, f.shape[0])).transpose()\n",
    "gradient_v = g[:,1].reshape((3, f.shape[0])).transpose()"
   ]
  },
  {
   "cell_type": "code",
   "execution_count": null,
   "metadata": {},
   "outputs": [],
   "source": [
    "# visualize of mapping functions (U,V) as textures over the surface.\n",
    "p = mp.subplot(v, f, uv=uv, shading={\"wireframe\": False, \"flat\": False}, s=[1, 3, 0])  # u, v as textures over the surface\n",
    "mp.subplot(v, f, uv=uv[:, 0], shading={\"wireframe\": False, \"flat\": False}, s=[1, 3, 1], data=p) # u as the texture over the surface\n",
    "mp.subplot(v, f, uv=uv[:, 1], shading={\"wireframe\": False, \"flat\": False}, s=[1, 3, 2], data=p) # v as the texture over the surface"
   ]
  },
  {
   "cell_type": "code",
   "execution_count": null,
   "metadata": {},
   "outputs": [],
   "source": [
    "# visualize of the gradients.\n",
    "avg = igl.avg_edge_length(v, f)/2\n",
    "B = igl.barycenter(v, f)\n",
    "# gradient of the function u\n",
    "p = mp.plot(v, f, c=uv[:, 0], shading={\"wireframe\": False, \"flat\": False})\n",
    "p.add_lines(B, B + gradient_u * avg)\n",
    "# gradient of the function v\n",
    "q = mp.plot(v, f, c=uv[:, 1], shading={\"wireframe\": False, \"flat\": False})\n",
    "q.add_lines(B, B + gradient_v * avg)"
   ]
  },
  {
   "cell_type": "code",
   "execution_count": null,
   "metadata": {},
   "outputs": [],
   "source": [
    "# visualization of the flattened mesh on the UV plane\n",
    "mp.plot(uv, f, shading={\"wireframe\": True})"
   ]
  },
  {
   "cell_type": "markdown",
   "metadata": {},
   "source": [
    "### LCSM Parameterizations"
   ]
  },
  {
   "cell_type": "code",
   "execution_count": null,
   "metadata": {},
   "outputs": [],
   "source": [
    "v, f = igl.read_triangle_mesh(\"data/camel_head.off\")\n",
    "b = np.array([2, 1])\n",
    "bnd = igl.boundary_loop(f)\n",
    "b[0] = bnd[0]\n",
    "b[1] = bnd[int(bnd.size / 2)]\n",
    "bc = np.array([[0.0, 0.0], [1.0, 0.0]])\n",
    "_, uv = igl.lscm(v, f, b, bc)\n",
    "\n",
    "G = igl.grad(v, f)\n",
    "g = G.dot(uv)\n",
    "gradient_u = g[:,0].reshape((3, f.shape[0])).transpose()\n",
    "gradient_v = g[:,1].reshape((3, f.shape[0])).transpose()"
   ]
  },
  {
   "cell_type": "code",
   "execution_count": null,
   "metadata": {},
   "outputs": [],
   "source": [
    "# visualize of mapping functions (U,V) as textures over the surface.\n",
    "p = mp.subplot(v, f, uv=uv, shading={\"wireframe\": False, \"flat\": False}, s=[1, 3, 0])  # u, v as textures over the surface\n",
    "mp.subplot(v, f, uv=uv[:, 0], shading={\"wireframe\": False, \"flat\": False}, s=[1, 3, 1], data=p) # u as a texture over the surface\n",
    "mp.subplot(v, f, uv=uv[:, 1], shading={\"wireframe\": False, \"flat\": False}, s=[1, 3, 2], data=p) # v as a texture over the surface"
   ]
  },
  {
   "cell_type": "code",
   "execution_count": null,
   "metadata": {},
   "outputs": [],
   "source": [
    "# visualize of the gradients.\n",
    "avg = igl.avg_edge_length(v, f)/2\n",
    "B = igl.barycenter(v, f)\n",
    "# gradient of u function\n",
    "l = mp.plot(v, f, c=uv[:, 0], shading={\"wireframe\": False, \"flat\": False})\n",
    "l.add_lines(B, B + gradient_u * avg)\n",
    "# gradient of v function\n",
    "q = mp.plot(v, f, c=uv[:, 1], shading={\"wireframe\": False, \"flat\": False})\n",
    "q.add_lines(B, B + gradient_v * avg)"
   ]
  },
  {
   "cell_type": "code",
   "execution_count": null,
   "metadata": {},
   "outputs": [],
   "source": [
    "# visualization of the flattened mesh on the UV plane\n",
    "mp.plot(uv, f, shading={\"wireframe\": True})"
   ]
  },
  {
   "cell_type": "markdown",
   "metadata": {},
   "source": [
    "## 4. Editing a parameterization with vector fields [10pt]"
   ]
  },
  {
   "cell_type": "markdown",
   "metadata": {},
   "source": [
    "### Editing the parameterization (Harmonic Parameterization)"
   ]
  },
  {
   "cell_type": "code",
   "execution_count": null,
   "metadata": {},
   "outputs": [],
   "source": [
    "v, f = igl.read_triangle_mesh(\"data/irr4-cyl2.off\")\n",
    "tt, _ = igl.triangle_triangle_adjacency(f)\n",
    "\n",
    "c = np.loadtxt(\"data/irr4-cyl2.constraints\")\n",
    "cf = c[:, 0].astype(np.int64)\n",
    "c = c[:, 1:]\n",
    "\n",
    "bnd = igl.boundary_loop(f)\n",
    "bnd_uv = igl.map_vertices_to_circle(v, bnd)\n",
    "uv = igl.harmonic_weights(v, f, bnd, bnd_uv, 1)\n",
    "\n",
    "R = vector_field_design(v, f, tt, cf, c)\n",
    "s, gradient = scalar_field(v, f, R) "
   ]
  },
  {
   "cell_type": "code",
   "execution_count": null,
   "metadata": {},
   "outputs": [],
   "source": [
    "# visualize the resulting replacement function and its gradient atop the mesh\n",
    "avg = igl.avg_edge_length(v, f)/2\n",
    "B = igl.barycenter(v, f)\n",
    "q = mp.plot(v, f, c=s)\n",
    "q.add_lines(B, B + gradient * avg)"
   ]
  },
  {
   "cell_type": "code",
   "execution_count": null,
   "metadata": {},
   "outputs": [],
   "source": [
    "# Texture the mesh with the new parameterization\n",
    "\n",
    "# replace the parameterization's 'U' coordinate function by s\n",
    "uv_edited_u = np.hstack([s, uv[:, 1].reshape(s.size, 1)])\n",
    "# replace the parameterization's 'V' coordinate function by s\n",
    "uv_edited_v = np.hstack([uv[:, 0].reshape(s.size, 1), s])\n",
    "\n",
    "p = mp.subplot(v, f, uv=uv_edited_u, s=[1,2,0])\n",
    "mp.subplot(v, f, uv=uv_edited_v, s=[1,2,1], data=p)"
   ]
  },
  {
   "cell_type": "markdown",
   "metadata": {},
   "source": [
    "### Editing the parameterization (LCSM Parameterization)"
   ]
  },
  {
   "cell_type": "code",
   "execution_count": null,
   "metadata": {},
   "outputs": [],
   "source": [
    "v, f = igl.read_triangle_mesh(\"data/irr4-cyl2.off\")\n",
    "tt, _ = igl.triangle_triangle_adjacency(f)\n",
    "\n",
    "c = np.loadtxt(\"data/irr4-cyl2.constraints\")\n",
    "cf = c[:, 0].astype(np.int64)\n",
    "c = c[:, 1:]\n",
    "\n",
    "R = vector_field_design(v, f, tt, cf, c)\n",
    "s, gradient = scalar_field(v, f, R) \n",
    "\n",
    "b = np.array([2, 1])\n",
    "bnd = igl.boundary_loop(f)\n",
    "b[0] = bnd[0]\n",
    "b[1] = bnd[int(bnd.size / 2)]\n",
    "bc = np.array([[0.0, 0.0], [1.0, 0.0]])\n",
    "_, uv = igl.lscm(v, f, b, bc)"
   ]
  },
  {
   "cell_type": "code",
   "execution_count": null,
   "metadata": {},
   "outputs": [],
   "source": [
    "# visualize the resulting replacement function and its gradient atop the mesh\n",
    "avg = igl.avg_edge_length(v, f)/2\n",
    "B = igl.barycenter(v, f)\n",
    "q = mp.plot(v, f, c=s)\n",
    "q.add_lines(B, B + gradient * avg)"
   ]
  },
  {
   "cell_type": "code",
   "execution_count": null,
   "metadata": {},
   "outputs": [],
   "source": [
    "# Texture the mesh with the new parameterization\n",
    "\n",
    "# replace the parameterization's 'U' coordinate function by s\n",
    "uv_edited_u = np.hstack([s, uv[:, 1].reshape(s.size, 1)])\n",
    "# replace the parameterization's 'V' coordinate function by s\n",
    "uv_edited_v = np.hstack([uv[:, 0].reshape(s.size, 1), s])\n",
    "\n",
    "p = mp.subplot(v, f, uv=uv_edited_u, s=[1,2,0])\n",
    "mp.subplot(v, f, uv=uv_edited_v, s=[1,2,1], data=p)"
   ]
  },
  {
   "cell_type": "markdown",
   "metadata": {},
   "source": [
    "### Detecting problems with the parameterization"
   ]
  },
  {
   "cell_type": "code",
   "execution_count": null,
   "metadata": {},
   "outputs": [],
   "source": [
    "# This function returns the indices of the flipped triangles as well as the colour function\n",
    "def flipped(uv, f):\n",
    "    indices, col = [], np.ones_like(f)\n",
    "    for i, (x, y, z) in enumerate(f):\n",
    "        v1_n, v2_n, v3_n = uv[x], uv[y], uv[z]\n",
    "        Y = np.array([[v1_n[0], v2_n[0], v3_n[0]],\n",
    "                      [v1_n[1], v2_n[1], v3_n[1]],\n",
    "                      [1      , 1      , 1      ]])\n",
    "        if np.linalg.det(Y) < 0:\n",
    "            col[i, 1:] = 0\n",
    "            indices.append(i)\n",
    "    return np.array(indices), col"
   ]
  },
  {
   "cell_type": "code",
   "execution_count": null,
   "metadata": {},
   "outputs": [],
   "source": [
    "v, f = igl.read_triangle_mesh(\"data/irr4-cyl2.off\")\n",
    "tt, _ = igl.triangle_triangle_adjacency(f)\n",
    "\n",
    "c = np.loadtxt(\"data/irr4-cyl2.constraints\")\n",
    "cf = c[:, 0].astype(np.int64)\n",
    "c = c[:, 1:]\n",
    "\n",
    "R = vector_field_design(v, f, tt, cf, c)\n",
    "s, _ = scalar_field(v, f, R)\n",
    "\n",
    "bnd = igl.boundary_loop(f)\n",
    "bnd_uv = igl.map_vertices_to_circle(v, bnd)\n",
    "uv = igl.harmonic_weights(v, f, bnd, bnd_uv, 1)"
   ]
  },
  {
   "cell_type": "code",
   "execution_count": null,
   "metadata": {},
   "outputs": [],
   "source": [
    "# replace the parameterization's 'V' coordinate function by s\n",
    "uv_edited = np.hstack([uv[:, 0].reshape(s.size, 1), s])\n",
    "x, col = flipped(uv_edited, f)"
   ]
  },
  {
   "cell_type": "code",
   "execution_count": null,
   "metadata": {},
   "outputs": [],
   "source": [
    "# visualization of flipped elements.\n",
    "mp.plot(uv_edited, f, c=col, shading={\"wireframe\": True})"
   ]
  },
  {
   "cell_type": "code",
   "execution_count": null,
   "metadata": {},
   "outputs": [],
   "source": []
  },
  {
   "cell_type": "code",
   "execution_count": null,
   "metadata": {},
   "outputs": [],
   "source": []
  },
  {
   "cell_type": "code",
   "execution_count": null,
   "metadata": {},
   "outputs": [],
   "source": []
  },
  {
   "cell_type": "code",
   "execution_count": null,
   "metadata": {},
   "outputs": [],
   "source": []
  }
 ],
 "metadata": {
  "kernelspec": {
   "display_name": "Python 3 (ipykernel)",
   "language": "python",
   "name": "python3"
  },
  "language_info": {
   "codemirror_mode": {
    "name": "ipython",
    "version": 3
   },
   "file_extension": ".py",
   "mimetype": "text/x-python",
   "name": "python",
   "nbconvert_exporter": "python",
   "pygments_lexer": "ipython3",
   "version": "3.8.10"
  }
 },
 "nbformat": 4,
 "nbformat_minor": 4
}
